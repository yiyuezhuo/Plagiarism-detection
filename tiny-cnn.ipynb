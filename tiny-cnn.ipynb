{
 "cells": [
  {
   "cell_type": "code",
   "execution_count": 1,
   "metadata": {},
   "outputs": [],
   "source": [
    "import json\n",
    "import os\n",
    "import numpy as np\n",
    "\n",
    "import jieba\n",
    "import torch"
   ]
  },
  {
   "cell_type": "code",
   "execution_count": 12,
   "metadata": {},
   "outputs": [],
   "source": [
    "word_list = []\n",
    "word_mat = None\n",
    "\n",
    "with open(r'E:\\agent\\Plagiarism_detection\\embedding\\sgns.zhihu.word', encoding='utf8') as f:\n",
    "    spec = f.readline().split(' ')\n",
    "    num_word, dim_word = int(spec[0]),int(spec[1])\n",
    "    word_mat = np.empty((num_word, dim_word))\n",
    "    for i,line in enumerate(f):\n",
    "        line = line.split(' ')\n",
    "        word_list.append(line[0])\n",
    "        word_mat[i,:] = np.array(line[1:-1]) # -1 for removing /n"
   ]
  },
  {
   "cell_type": "code",
   "execution_count": 13,
   "metadata": {},
   "outputs": [],
   "source": [
    "word_mat_tensor = torch.tensor(word_mat)"
   ]
  },
  {
   "cell_type": "code",
   "execution_count": 14,
   "metadata": {},
   "outputs": [
    {
     "data": {
      "text/plain": [
       "tensor([[-0.1412,  0.2703,  0.3153,  ...,  0.1564, -0.1923,  0.2506],\n",
       "        [-0.0637,  0.2457,  0.0774,  ...,  0.1683, -0.0946, -0.0327],\n",
       "        [-0.1415,  0.3232,  0.2345,  ...,  0.1930, -0.2140,  0.1425],\n",
       "        ...,\n",
       "        [-0.0044,  0.0247, -0.0041,  ...,  0.0049,  0.0107,  0.0011],\n",
       "        [-0.0038,  0.0420, -0.0082,  ...,  0.0155,  0.0264, -0.0136],\n",
       "        [-0.0088,  0.0255, -0.0074,  ...,  0.0068,  0.0261, -0.0023]],\n",
       "       dtype=torch.float64)"
      ]
     },
     "execution_count": 14,
     "metadata": {},
     "output_type": "execute_result"
    }
   ],
   "source": [
    "word_mat_tensor"
   ]
  },
  {
   "cell_type": "code",
   "execution_count": 18,
   "metadata": {},
   "outputs": [],
   "source": [
    "word_pt = {'name':'sgns.zhihu.word',\n",
    "           'tensor':word_mat_tensor,\n",
    "           'num_word':num_word,\n",
    "           'dim_word':dim_word,\n",
    "           'word_list':word_list}"
   ]
  },
  {
   "cell_type": "code",
   "execution_count": 19,
   "metadata": {},
   "outputs": [],
   "source": [
    "torch.save(word_pt, 'embedding_tensor/sgns.zhihu.word')"
   ]
  },
  {
   "cell_type": "code",
   "execution_count": 17,
   "metadata": {},
   "outputs": [],
   "source": [
    "torch.save?"
   ]
  },
  {
   "cell_type": "code",
   "execution_count": null,
   "metadata": {},
   "outputs": [],
   "source": []
  }
 ],
 "metadata": {
  "kernelspec": {
   "display_name": "Python 3",
   "language": "python",
   "name": "python3"
  },
  "language_info": {
   "codemirror_mode": {
    "name": "ipython",
    "version": 3
   },
   "file_extension": ".py",
   "mimetype": "text/x-python",
   "name": "python",
   "nbconvert_exporter": "python",
   "pygments_lexer": "ipython3",
   "version": "3.6.5"
  }
 },
 "nbformat": 4,
 "nbformat_minor": 2
}
