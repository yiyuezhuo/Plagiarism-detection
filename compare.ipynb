{
 "cells": [
  {
   "cell_type": "code",
   "execution_count": 1,
   "metadata": {},
   "outputs": [
    {
     "name": "stdout",
     "output_type": "stream",
     "text": [
      "creating model\n"
     ]
    }
   ],
   "source": [
    "import torch\n",
    "import torch.nn as nn\n",
    "import torch.nn.functional as F\n",
    "from models import CNN1DText\n",
    "#import json\n",
    "import random\n",
    "import os\n",
    "from data_process import EmbeddingManager\n",
    "\n",
    "\n",
    "#import os\n",
    "\n",
    "from evaluation_tool import EvaluationManager\n",
    "\n",
    "print(\"creating model\")\n",
    "used_embedding = 'sgns.zhihu.word'\n",
    "embedding_dir = 'embedding_tensor'\n",
    "load_cache_model = \"model_cache/model\"\n",
    "\n",
    "embedding_manager = EmbeddingManager(used_embedding, embedding_dir)\n"
   ]
  },
  {
   "cell_type": "code",
   "execution_count": 2,
   "metadata": {},
   "outputs": [
    {
     "name": "stdout",
     "output_type": "stream",
     "text": [
      "loading data\n",
      "size 6280 -> 6143\n",
      "size 320 -> 306\n"
     ]
    }
   ],
   "source": [
    "# prepare data\n",
    "print(\"loading data\")\n",
    "feature_list, target_list = embedding_manager.load_data('traning_data.json')\n",
    "feature_list_test, target_list_test = embedding_manager.load_data('testing_data.json')\n"
   ]
  },
  {
   "cell_type": "code",
   "execution_count": 9,
   "metadata": {},
   "outputs": [],
   "source": [
    "class CNN1DTextMean(CNN1DText):\n",
    "    def forward(self, x):\n",
    "        # add and remove the extra N=1 dummy dimention to leverage other procedure which can only handle such form, \n",
    "        # such as those traning algorithm.\n",
    "        # (1, L)\n",
    "        x = self.batch_forward(torch.squeeze(x,0))\n",
    "        return torch.unsqueeze(torch.mean(x,0),0) #(1, class_num)\n",
    "    \n",
    "class CNN1DTextMax(CNN1DText):\n",
    "    def forward(self, x):\n",
    "        # add and remove the extra N=1 dummy dimention to leverage other procedure which can only handle such form, \n",
    "        # such as those traning algorithm.\n",
    "        # (1, L)\n",
    "        x = self.batch_forward(torch.squeeze(x,0))\n",
    "        return torch.unsqueeze(torch.max(x,0)[0],0) #(1, class_num)\n"
   ]
  },
  {
   "cell_type": "code",
   "execution_count": 4,
   "metadata": {},
   "outputs": [],
   "source": [
    "model = CNN1DTextMean(embed_num = 259922, embed_dim = 300, class_num = 2, kernel_num = 100, kernel_sizes = (3,4,5),\n",
    "                dropout = 0.5)\n",
    "\n",
    "embedding_obj = torch.load(os.path.join(embedding_dir, used_embedding))\n",
    "model.use_pretrained_embedding(embedding_obj['tensor'], non_trainable = True)\n"
   ]
  },
  {
   "cell_type": "code",
   "execution_count": 5,
   "metadata": {},
   "outputs": [],
   "source": [
    "cuda = True\n",
    "if cuda:\n",
    "\n",
    "    feature_list = [feature.cuda() for feature in feature_list]\n",
    "    target_list = [target.cuda() for target in target_list]\n",
    "    feature_list_test = [feature.cuda() for feature in feature_list_test]\n",
    "    target_list_test = [target.cuda() for target in target_list_test]\n",
    "\n",
    "    model.cuda()\n"
   ]
  },
  {
   "cell_type": "code",
   "execution_count": 12,
   "metadata": {},
   "outputs": [
    {
     "name": "stdout",
     "output_type": "stream",
     "text": [
      "start training\n"
     ]
    },
    {
     "name": "stderr",
     "output_type": "stream",
     "text": [
      "D:\\anaconda\\lib\\site-packages\\torch\\nn\\functional.py:52: UserWarning: size_average and reduce args will be deprecated, please use reduction='sum' instead.\n",
      "  warnings.warn(warning.format(ret))\n"
     ]
    },
    {
     "name": "stdout",
     "output_type": "stream",
     "text": [
      "loss: 0.5327366980910301 999/20000\n",
      "loss: 0.5193258919715882 1999/20000\n",
      "loss: 0.5376055925488472 2999/20000\n",
      "loss: 0.5195887275636196 3999/20000\n",
      "loss: 0.4955071797668934 4999/20000\n",
      "loss: 0.5216926597058773 5999/20000\n",
      "loss: 0.5490505165755749 6999/20000\n",
      "loss: 0.4940955646634102 7999/20000\n",
      "loss: 0.5034801624715328 8999/20000\n",
      "loss: 0.49654267650842665 9999/20000\n",
      "loss: 0.544945903301239 10999/20000\n",
      "loss: 0.5260658439695836 11999/20000\n",
      "loss: 0.4914745786339045 12999/20000\n",
      "loss: 0.5480733099281788 13999/20000\n",
      "loss: 0.49690695510804656 14999/20000\n",
      "loss: 0.5236796655058861 15999/20000\n",
      "loss: 0.5289269909858704 16999/20000\n",
      "loss: 0.5243995447456836 17999/20000\n",
      "loss: 0.5015852240920067 18999/20000\n",
      "loss: 0.49334284277260304 19999/20000\n"
     ]
    }
   ],
   "source": [
    "# training\n",
    "lr = 0.001\n",
    "optimizer = torch.optim.Adam(model.parameters(), lr=lr)\n",
    "    \n",
    "len_data = len(feature_list)\n",
    "n_iter = 20000\n",
    "\n",
    "print(\"start training\")\n",
    "# optimizer = torch.optim.SGD(model.parameters(), lr=0.0001)\n",
    "loss_cache = []\n",
    "for i in range(n_iter):\n",
    "    idx = random.randint(0,len_data-1)\n",
    "    feature, target = feature_list[idx], target_list[idx]\n",
    "    \n",
    "    optimizer.zero_grad()\n",
    "    out = model(feature) # before softmax(log_softmax)\n",
    "    loss = F.cross_entropy(out, target, size_average=False)\n",
    "    loss_cache.append(loss.item())\n",
    "    loss.backward()\n",
    "    optimizer.step()\n",
    "    \n",
    "    if len(loss_cache) == 1000:\n",
    "        loss_est = sum(loss_cache)/len(loss_cache)\n",
    "        loss_cache = []\n",
    "        print(f'loss: {loss_est} {i}/{n_iter}')\n"
   ]
  },
  {
   "cell_type": "code",
   "execution_count": 13,
   "metadata": {},
   "outputs": [
    {
     "name": "stdout",
     "output_type": "stream",
     "text": [
      "save cache model model_cache/model2018-11-16 11-59-39.711925\n",
      "train acc 0.7841445547777959\n",
      "tensor([[4762,   39],\n",
      "        [1287,   55]])\n",
      "test acc 0.7843137254901961\n",
      "tensor([[239,   3],\n",
      "        [ 63,   1]])\n"
     ]
    }
   ],
   "source": [
    "\n",
    "\n",
    "import datetime\n",
    "timestamp = str(datetime.datetime.now()).replace(':','-')\n",
    "cache_path = \"model_cache/model\"+timestamp\n",
    "torch.save(model.state_dict(), cache_path)\n",
    "\n",
    "\n",
    "print(f'save cache model {cache_path}')\n",
    "\n",
    "    \n"
   ]
  },
  {
   "cell_type": "code",
   "execution_count": null,
   "metadata": {},
   "outputs": [],
   "source": [
    "model.train(False)\n",
    "\n",
    "evaluation_manager = EvaluationManager(model, embedding_manager, cuda = cuda)\n",
    "get_acc = evaluation_manager.get_acc\n",
    "confuse_matrix = evaluation_manager.confuse_matrix\n",
    "analysis_doc = evaluation_manager.analysis_doc\n",
    "\n",
    "\n",
    "print(f'train acc {get_acc(feature_list, target_list)}') # 0.94\n",
    "print(confuse_matrix(feature_list, target_list))\n",
    "\n",
    "print(f'test acc {get_acc(feature_list_test, target_list_test)}') #\n",
    "print(confuse_matrix(feature_list_test, target_list_test))\n"
   ]
  },
  {
   "cell_type": "code",
   "execution_count": 14,
   "metadata": {},
   "outputs": [
    {
     "name": "stderr",
     "output_type": "stream",
     "text": [
      "Building prefix dict from the default dictionary ...\n",
      "Loading model from cache C:\\Users\\YIYUEZ~1\\AppData\\Local\\Temp\\jieba.cache\n",
      "Loading model cost 1.082 seconds.\n",
      "Prefix dict has been built succesfully.\n"
     ]
    },
    {
     "name": "stdout",
     "output_type": "stream",
     "text": [
      "none count: 174 / 11644\n",
      "none count: 175 / 7350\n"
     ]
    },
    {
     "data": {
      "text/plain": [
       "<Figure size 640x480 with 1 Axes>"
      ]
     },
     "metadata": {},
     "output_type": "display_data"
    },
    {
     "data": {
      "text/plain": [
       "<Figure size 640x480 with 1 Axes>"
      ]
     },
     "metadata": {},
     "output_type": "display_data"
    }
   ],
   "source": [
    "\n",
    "\n",
    "good_list = analysis_doc('extracted_text/AI报告_杨帆_117106010714.docx.txt')\n",
    "\n"
   ]
  },
  {
   "cell_type": "code",
   "execution_count": 15,
   "metadata": {},
   "outputs": [
    {
     "data": {
      "image/png": "[encoded data removed]",
      "text/plain": [
       "<Figure size 432x288 with 1 Axes>"
      ]
     },
     "metadata": {},
     "output_type": "display_data"
    },
    {
     "data": {
      "image/png": "[encoded data removed]",
      "text/plain": [
       "<Figure size 432x288 with 1 Axes>"
      ]
     },
     "metadata": {},
     "output_type": "display_data"
    }
   ],
   "source": [
    "import matplotlib.pyplot as plt\n",
    "import numpy as np\n",
    "%matplotlib inline\n",
    "\n",
    "plt.plot(good_list)\n",
    "plt.title(np.mean(good_list))\n",
    "plt.show()\n",
    "plt.plot(bad_list)\n",
    "plt.title(np.mean(bad_list))\n",
    "plt.show(np.mean(bad_list))"
   ]
  },
  {
   "cell_type": "code",
   "execution_count": 17,
   "metadata": {},
   "outputs": [
    {
     "ename": "RuntimeError",
     "evalue": "Given input size: (100x1x10). Calculated output size: (100x1x0). Output size is too small at c:\\programdata\\miniconda3\\conda-bld\\pytorch_1533090623466\\work\\aten\\src\\thnn\\generic/SpatialDilatedMaxPooling.c:67",
     "output_type": "error",
     "traceback": [
      "\u001b[1;31m---------------------------------------------------------------------------\u001b[0m",
      "\u001b[1;31mRuntimeError\u001b[0m                              Traceback (most recent call last)",
      "\u001b[1;32m<ipython-input-17-279196ba368d>\u001b[0m in \u001b[0;36m<module>\u001b[1;34m()\u001b[0m\n\u001b[1;32m----> 1\u001b[1;33m \u001b[0mF\u001b[0m\u001b[1;33m.\u001b[0m\u001b[0mmax_pool1d\u001b[0m\u001b[1;33m(\u001b[0m\u001b[0mtorch\u001b[0m\u001b[1;33m.\u001b[0m\u001b[0mrandn\u001b[0m\u001b[1;33m(\u001b[0m\u001b[1;36m1\u001b[0m\u001b[1;33m,\u001b[0m\u001b[1;36m100\u001b[0m\u001b[1;33m,\u001b[0m\u001b[1;36m10\u001b[0m\u001b[1;33m)\u001b[0m\u001b[1;33m,\u001b[0m\u001b[1;36m20\u001b[0m\u001b[1;33m)\u001b[0m\u001b[1;33m\u001b[0m\u001b[0m\n\u001b[0m",
      "\u001b[1;32mD:\\anaconda\\lib\\site-packages\\torch\\nn\\functional.py\u001b[0m in \u001b[0;36mmax_pool1d\u001b[1;34m(input, kernel_size, stride, padding, dilation, ceil_mode, return_indices)\u001b[0m\n\u001b[0;32m    383\u001b[0m     \u001b[0mSee\u001b[0m \u001b[1;33m:\u001b[0m\u001b[1;32mclass\u001b[0m\u001b[1;33m:\u001b[0m\u001b[0;31m`\u001b[0m\u001b[1;33m~\u001b[0m\u001b[0mtorch\u001b[0m\u001b[1;33m.\u001b[0m\u001b[0mnn\u001b[0m\u001b[1;33m.\u001b[0m\u001b[0mMaxPool1d\u001b[0m\u001b[0;31m`\u001b[0m \u001b[1;32mfor\u001b[0m \u001b[0mdetails\u001b[0m\u001b[1;33m.\u001b[0m\u001b[1;33m\u001b[0m\u001b[0m\n\u001b[0;32m    384\u001b[0m     \"\"\"\n\u001b[1;32m--> 385\u001b[1;33m     \u001b[0mret\u001b[0m \u001b[1;33m=\u001b[0m \u001b[0mtorch\u001b[0m\u001b[1;33m.\u001b[0m\u001b[0mmax_pool1d_with_indices\u001b[0m\u001b[1;33m(\u001b[0m\u001b[0minput\u001b[0m\u001b[1;33m,\u001b[0m \u001b[0mkernel_size\u001b[0m\u001b[1;33m,\u001b[0m \u001b[0mstride\u001b[0m\u001b[1;33m,\u001b[0m \u001b[0mpadding\u001b[0m\u001b[1;33m,\u001b[0m \u001b[0mdilation\u001b[0m\u001b[1;33m,\u001b[0m \u001b[0mceil_mode\u001b[0m\u001b[1;33m)\u001b[0m\u001b[1;33m\u001b[0m\u001b[0m\n\u001b[0m\u001b[0;32m    386\u001b[0m     \u001b[1;32mreturn\u001b[0m \u001b[0mret\u001b[0m \u001b[1;32mif\u001b[0m \u001b[0mreturn_indices\u001b[0m \u001b[1;32melse\u001b[0m \u001b[0mret\u001b[0m\u001b[1;33m[\u001b[0m\u001b[1;36m0\u001b[0m\u001b[1;33m]\u001b[0m\u001b[1;33m\u001b[0m\u001b[0m\n\u001b[0;32m    387\u001b[0m \u001b[1;33m\u001b[0m\u001b[0m\n",
      "\u001b[1;31mRuntimeError\u001b[0m: Given input size: (100x1x10). Calculated output size: (100x1x0). Output size is too small at c:\\programdata\\miniconda3\\conda-bld\\pytorch_1533090623466\\work\\aten\\src\\thnn\\generic/SpatialDilatedMaxPooling.c:67"
     ]
    }
   ],
   "source": [
    "F.max_pool1d(torch.randn(1,100,10),20)"
   ]
  },
  {
   "cell_type": "code",
   "execution_count": 16,
   "metadata": {},
   "outputs": [],
   "source": [
    "F.max_pool1d?"
   ]
  },
  {
   "cell_type": "code",
   "execution_count": 20,
   "metadata": {},
   "outputs": [
    {
     "data": {
      "text/plain": [
       "tensor([[-0.6660,  0.0220],\n",
       "        [-0.2273,  0.1507]])"
      ]
     },
     "execution_count": 20,
     "metadata": {},
     "output_type": "execute_result"
    }
   ],
   "source": [
    "torch.randn(2,2).squeeze(1)"
   ]
  },
  {
   "cell_type": "code",
   "execution_count": 21,
   "metadata": {},
   "outputs": [],
   "source": [
    "nn.Conv1d?"
   ]
  },
  {
   "cell_type": "code",
   "execution_count": 22,
   "metadata": {},
   "outputs": [],
   "source": [
    "F.max_pool1d?"
   ]
  },
  {
   "cell_type": "code",
   "execution_count": 27,
   "metadata": {},
   "outputs": [
    {
     "data": {
      "text/plain": [
       "torch.Size([1, 100, 6])"
      ]
     },
     "execution_count": 27,
     "metadata": {},
     "output_type": "execute_result"
    }
   ],
   "source": [
    "F.max_pool1d(torch.randn(1,100,30),25,stride=1).shape"
   ]
  },
  {
   "cell_type": "code",
   "execution_count": 4,
   "metadata": {},
   "outputs": [],
   "source": [
    "import models"
   ]
  },
  {
   "cell_type": "code",
   "execution_count": 13,
   "metadata": {},
   "outputs": [
    {
     "name": "stdout",
     "output_type": "stream",
     "text": [
      "The autoreload extension is already loaded. To reload it, use:\n",
      "  %reload_ext autoreload\n"
     ]
    }
   ],
   "source": [
    "%load_ext autoreload\n",
    "%autoreload 2"
   ]
  },
  {
   "cell_type": "code",
   "execution_count": 14,
   "metadata": {},
   "outputs": [],
   "source": [
    "model = models.CNNV2(embed_num = 259922, embed_dim = 300, class_num = 2, kernel_num = 100, kernel_sizes = (3,4,5),\n",
    "                dropout = 0.5)\n",
    "\n",
    "embedding_obj = torch.load(os.path.join(embedding_dir, used_embedding))\n",
    "model.use_pretrained_embedding(embedding_obj['tensor'], non_trainable = True)\n"
   ]
  },
  {
   "cell_type": "code",
   "execution_count": 15,
   "metadata": {},
   "outputs": [],
   "source": [
    "cuda = True\n",
    "if cuda:\n",
    "\n",
    "    feature_list = [feature.cuda() for feature in feature_list]\n",
    "    target_list = [target.cuda() for target in target_list]\n",
    "    feature_list_test = [feature.cuda() for feature in feature_list_test]\n",
    "    target_list_test = [target.cuda() for target in target_list_test]\n",
    "\n",
    "    model.cuda()\n"
   ]
  },
  {
   "cell_type": "code",
   "execution_count": 16,
   "metadata": {},
   "outputs": [
    {
     "name": "stdout",
     "output_type": "stream",
     "text": [
      "start training\n"
     ]
    },
    {
     "name": "stderr",
     "output_type": "stream",
     "text": [
      "D:\\anaconda\\lib\\site-packages\\torch\\nn\\functional.py:52: UserWarning: size_average and reduce args will be deprecated, please use reduction='sum' instead.\n",
      "  warnings.warn(warning.format(ret))\n"
     ]
    },
    {
     "name": "stdout",
     "output_type": "stream",
     "text": [
      "loss: 0.5838185234367848 999/20000\n",
      "loss: 0.5266957989633083 1999/20000\n",
      "loss: 0.5040717175602913 2999/20000\n",
      "loss: 0.5538142917901278 3999/20000\n",
      "loss: 0.503610973417759 4999/20000\n",
      "loss: 0.5076092751920224 5999/20000\n",
      "loss: 0.4736355343610048 6999/20000\n",
      "loss: 0.47645870453119277 7999/20000\n",
      "loss: 0.4486696624606848 8999/20000\n",
      "loss: 0.4469425745159388 9999/20000\n",
      "loss: 0.45487523020803927 10999/20000\n",
      "loss: 0.4649599179923534 11999/20000\n",
      "loss: 0.48070262160897254 12999/20000\n",
      "loss: 0.4216219006627798 13999/20000\n",
      "loss: 0.41406380134820936 14999/20000\n",
      "loss: 0.44795721797645094 15999/20000\n",
      "loss: 0.3917401671260595 16999/20000\n",
      "loss: 0.3780293843597174 17999/20000\n",
      "loss: 0.40065599703788757 18999/20000\n",
      "loss: 0.35069197297096255 19999/20000\n"
     ]
    }
   ],
   "source": [
    "# training\n",
    "lr = 0.001\n",
    "optimizer = torch.optim.Adam(model.parameters(), lr=lr)\n",
    "    \n",
    "len_data = len(feature_list)\n",
    "n_iter = 20000\n",
    "\n",
    "print(\"start training\")\n",
    "# optimizer = torch.optim.SGD(model.parameters(), lr=0.0001)\n",
    "loss_cache = []\n",
    "for i in range(n_iter):\n",
    "    idx = random.randint(0,len_data-1)\n",
    "    feature, target = feature_list[idx], target_list[idx]\n",
    "    \n",
    "    optimizer.zero_grad()\n",
    "    out = model(feature) # before softmax(log_softmax)\n",
    "    out = out.squeeze(2)\n",
    "    loss = F.cross_entropy(out, target, size_average=False)\n",
    "    loss_cache.append(loss.item())\n",
    "    loss.backward()\n",
    "    optimizer.step()\n",
    "    \n",
    "    if len(loss_cache) == 1000:\n",
    "        loss_est = sum(loss_cache)/len(loss_cache)\n",
    "        loss_cache = []\n",
    "        print(f'loss: {loss_est} {i}/{n_iter}')\n"
   ]
  },
  {
   "cell_type": "code",
   "execution_count": 17,
   "metadata": {},
   "outputs": [
    {
     "name": "stdout",
     "output_type": "stream",
     "text": [
      "train acc 0.882305062672961\n",
      "tensor([[4701,  100],\n",
      "        [ 623,  719]])\n",
      "test acc 0.738562091503268\n",
      "tensor([[222,  20],\n",
      "        [ 60,   4]])\n"
     ]
    }
   ],
   "source": [
    "model.train(False)\n",
    "\n",
    "evaluation_manager = EvaluationManager(model, embedding_manager, cuda = cuda)\n",
    "get_acc = evaluation_manager.get_acc\n",
    "confuse_matrix = evaluation_manager.confuse_matrix\n",
    "analysis_doc = evaluation_manager.analysis_doc\n",
    "\n",
    "\n",
    "print(f'train acc {get_acc(feature_list, target_list)}') # 0.94\n",
    "print(confuse_matrix(feature_list, target_list))\n",
    "\n",
    "print(f'test acc {get_acc(feature_list_test, target_list_test)}') #\n",
    "print(confuse_matrix(feature_list_test, target_list_test))\n"
   ]
  },
  {
   "cell_type": "code",
   "execution_count": 18,
   "metadata": {},
   "outputs": [
    {
     "name": "stdout",
     "output_type": "stream",
     "text": [
      "start training\n"
     ]
    },
    {
     "name": "stderr",
     "output_type": "stream",
     "text": [
      "D:\\anaconda\\lib\\site-packages\\torch\\nn\\functional.py:52: UserWarning: size_average and reduce args will be deprecated, please use reduction='sum' instead.\n",
      "  warnings.warn(warning.format(ret))\n"
     ]
    },
    {
     "name": "stdout",
     "output_type": "stream",
     "text": [
      "loss: 0.3781767908930779 999/20000\n",
      "loss: 0.36824610278010367 1999/20000\n",
      "loss: 0.4019898724406958 2999/20000\n",
      "loss: 0.34581310181319713 3999/20000\n",
      "loss: 0.3762867725491524 4999/20000\n",
      "loss: 0.34769866631925106 5999/20000\n",
      "loss: 0.3782634024322033 6999/20000\n",
      "loss: 0.34607590824365614 7999/20000\n",
      "loss: 0.31943156880140305 8999/20000\n",
      "loss: 0.3329312991350889 9999/20000\n",
      "loss: 0.31461223413050177 10999/20000\n",
      "loss: 0.31078818839788436 11999/20000\n",
      "loss: 0.3091557001173496 12999/20000\n",
      "loss: 0.28777206191420557 13999/20000\n",
      "loss: 0.2698608704507351 14999/20000\n",
      "loss: 0.2911558743864298 15999/20000\n",
      "loss: 0.2702375695407391 16999/20000\n",
      "loss: 0.2667164943665266 17999/20000\n",
      "loss: 0.273317386329174 18999/20000\n",
      "loss: 0.2600772050768137 19999/20000\n"
     ]
    }
   ],
   "source": [
    "# training\n",
    "model.train(True)\n",
    "\n",
    "lr = 0.001\n",
    "optimizer = torch.optim.Adam(model.parameters(), lr=lr)\n",
    "    \n",
    "len_data = len(feature_list)\n",
    "n_iter = 20000\n",
    "\n",
    "print(\"start training\")\n",
    "# optimizer = torch.optim.SGD(model.parameters(), lr=0.0001)\n",
    "loss_cache = []\n",
    "for i in range(n_iter):\n",
    "    idx = random.randint(0,len_data-1)\n",
    "    feature, target = feature_list[idx], target_list[idx]\n",
    "    \n",
    "    optimizer.zero_grad()\n",
    "    out = model(feature) # before softmax(log_softmax)\n",
    "    out = out.squeeze(2)\n",
    "    loss = F.cross_entropy(out, target, size_average=False)\n",
    "    loss_cache.append(loss.item())\n",
    "    loss.backward()\n",
    "    optimizer.step()\n",
    "    \n",
    "    if len(loss_cache) == 1000:\n",
    "        loss_est = sum(loss_cache)/len(loss_cache)\n",
    "        loss_cache = []\n",
    "        print(f'loss: {loss_est} {i}/{n_iter}')\n"
   ]
  },
  {
   "cell_type": "code",
   "execution_count": 19,
   "metadata": {},
   "outputs": [
    {
     "name": "stdout",
     "output_type": "stream",
     "text": [
      "train acc 0.9399316294969885\n",
      "tensor([[4718,   83],\n",
      "        [ 286, 1056]])\n",
      "test acc 0.7679738562091504\n",
      "tensor([[221,  21],\n",
      "        [ 50,  14]])\n"
     ]
    }
   ],
   "source": [
    "model.train(False)\n",
    "\n",
    "print(f'train acc {get_acc(feature_list, target_list)}') # 0.94\n",
    "print(confuse_matrix(feature_list, target_list))\n",
    "\n",
    "print(f'test acc {get_acc(feature_list_test, target_list_test)}') #\n",
    "print(confuse_matrix(feature_list_test, target_list_test))\n"
   ]
  },
  {
   "cell_type": "code",
   "execution_count": 20,
   "metadata": {},
   "outputs": [
    {
     "name": "stdout",
     "output_type": "stream",
     "text": [
      "start training\n"
     ]
    },
    {
     "name": "stderr",
     "output_type": "stream",
     "text": [
      "D:\\anaconda\\lib\\site-packages\\torch\\nn\\functional.py:52: UserWarning: size_average and reduce args will be deprecated, please use reduction='sum' instead.\n",
      "  warnings.warn(warning.format(ret))\n"
     ]
    },
    {
     "name": "stdout",
     "output_type": "stream",
     "text": [
      "loss: 0.25461153174936774 999/20000\n",
      "loss: 0.2528211486637592 1999/20000\n",
      "loss: 0.2713071506023407 2999/20000\n",
      "loss: 0.24191658201813698 3999/20000\n",
      "loss: 0.2373641375005245 4999/20000\n",
      "loss: 0.26614417853206396 5999/20000\n",
      "loss: 0.2816039807796478 6999/20000\n",
      "loss: 0.22892168626189233 7999/20000\n",
      "loss: 0.24535555031895637 8999/20000\n",
      "loss: 0.20499914598464966 9999/20000\n",
      "loss: 0.22348758828639984 10999/20000\n",
      "loss: 0.20109221175312997 11999/20000\n",
      "loss: 0.22236038109660147 12999/20000\n",
      "loss: 0.24119005981087685 13999/20000\n",
      "loss: 0.23263146221637726 14999/20000\n",
      "loss: 0.18983656638860702 15999/20000\n",
      "loss: 0.1937137579023838 16999/20000\n",
      "loss: 0.23495113775134085 17999/20000\n",
      "loss: 0.21286076253652572 18999/20000\n",
      "loss: 0.20438476675748826 19999/20000\n"
     ]
    }
   ],
   "source": [
    "# training\n",
    "model.train(True)\n",
    "\n",
    "lr = 0.001\n",
    "optimizer = torch.optim.Adam(model.parameters(), lr=lr)\n",
    "    \n",
    "len_data = len(feature_list)\n",
    "n_iter = 20000\n",
    "\n",
    "print(\"start training\")\n",
    "# optimizer = torch.optim.SGD(model.parameters(), lr=0.0001)\n",
    "loss_cache = []\n",
    "for i in range(n_iter):\n",
    "    idx = random.randint(0,len_data-1)\n",
    "    feature, target = feature_list[idx], target_list[idx]\n",
    "    \n",
    "    optimizer.zero_grad()\n",
    "    out = model(feature) # before softmax(log_softmax)\n",
    "    out = out.squeeze(2)\n",
    "    loss = F.cross_entropy(out, target, size_average=False)\n",
    "    loss_cache.append(loss.item())\n",
    "    loss.backward()\n",
    "    optimizer.step()\n",
    "    \n",
    "    if len(loss_cache) == 1000:\n",
    "        loss_est = sum(loss_cache)/len(loss_cache)\n",
    "        loss_cache = []\n",
    "        print(f'loss: {loss_est} {i}/{n_iter}')\n"
   ]
  },
  {
   "cell_type": "code",
   "execution_count": 21,
   "metadata": {},
   "outputs": [
    {
     "name": "stdout",
     "output_type": "stream",
     "text": [
      "train acc 0.9689076998209344\n",
      "tensor([[4758,   43],\n",
      "        [ 148, 1194]])\n",
      "test acc 0.7712418300653595\n",
      "tensor([[219,  23],\n",
      "        [ 47,  17]])\n"
     ]
    }
   ],
   "source": [
    "model.train(False)\n",
    "\n",
    "print(f'train acc {get_acc(feature_list, target_list)}') # 0.94\n",
    "print(confuse_matrix(feature_list, target_list))\n",
    "\n",
    "print(f'test acc {get_acc(feature_list_test, target_list_test)}') #\n",
    "print(confuse_matrix(feature_list_test, target_list_test))\n"
   ]
  },
  {
   "cell_type": "code",
   "execution_count": 22,
   "metadata": {},
   "outputs": [
    {
     "name": "stdout",
     "output_type": "stream",
     "text": [
      "start training\n"
     ]
    },
    {
     "name": "stderr",
     "output_type": "stream",
     "text": [
      "D:\\anaconda\\lib\\site-packages\\torch\\nn\\functional.py:52: UserWarning: size_average and reduce args will be deprecated, please use reduction='sum' instead.\n",
      "  warnings.warn(warning.format(ret))\n"
     ]
    },
    {
     "name": "stdout",
     "output_type": "stream",
     "text": [
      "loss: 0.21850189217925073 999/20000\n",
      "loss: 0.1900887493491173 1999/20000\n",
      "loss: 0.20779893946647643 2999/20000\n",
      "loss: 0.2206921116411686 3999/20000\n",
      "loss: 0.2312840704470873 4999/20000\n",
      "loss: 0.2014151332527399 5999/20000\n",
      "loss: 0.16978893426060676 6999/20000\n",
      "loss: 0.21573469883203505 7999/20000\n",
      "loss: 0.17374648222327232 8999/20000\n",
      "loss: 0.2080708215981722 9999/20000\n",
      "loss: 0.16797767423093318 10999/20000\n",
      "loss: 0.2030388533771038 11999/20000\n",
      "loss: 0.16831581154465675 12999/20000\n",
      "loss: 0.16543469542264938 13999/20000\n",
      "loss: 0.15847708758711815 14999/20000\n",
      "loss: 0.20450837597250937 15999/20000\n",
      "loss: 0.20449055092036725 16999/20000\n",
      "loss: 0.18024474328756332 17999/20000\n",
      "loss: 0.13902878253161907 18999/20000\n",
      "loss: 0.15294541066884995 19999/20000\n"
     ]
    }
   ],
   "source": [
    "# training\n",
    "model.train(True)\n",
    "\n",
    "lr = 0.001\n",
    "optimizer = torch.optim.Adam(model.parameters(), lr=lr)\n",
    "    \n",
    "len_data = len(feature_list)\n",
    "n_iter = 20000\n",
    "\n",
    "print(\"start training\")\n",
    "# optimizer = torch.optim.SGD(model.parameters(), lr=0.0001)\n",
    "loss_cache = []\n",
    "for i in range(n_iter):\n",
    "    idx = random.randint(0,len_data-1)\n",
    "    feature, target = feature_list[idx], target_list[idx]\n",
    "    \n",
    "    optimizer.zero_grad()\n",
    "    out = model(feature) # before softmax(log_softmax)\n",
    "    out = out.squeeze(2)\n",
    "    loss = F.cross_entropy(out, target, size_average=False)\n",
    "    loss_cache.append(loss.item())\n",
    "    loss.backward()\n",
    "    optimizer.step()\n",
    "    \n",
    "    if len(loss_cache) == 1000:\n",
    "        loss_est = sum(loss_cache)/len(loss_cache)\n",
    "        loss_cache = []\n",
    "        print(f'loss: {loss_est} {i}/{n_iter}')\n"
   ]
  },
  {
   "cell_type": "code",
   "execution_count": 23,
   "metadata": {},
   "outputs": [
    {
     "name": "stdout",
     "output_type": "stream",
     "text": [
      "train acc 0.9734657333550383\n",
      "tensor([[4779,   22],\n",
      "        [ 141, 1201]])\n",
      "test acc 0.8137254901960784\n",
      "tensor([[231,  11],\n",
      "        [ 46,  18]])\n"
     ]
    }
   ],
   "source": [
    "model.train(False)\n",
    "\n",
    "print(f'train acc {get_acc(feature_list, target_list)}') # 0.94\n",
    "print(confuse_matrix(feature_list, target_list))\n",
    "\n",
    "print(f'test acc {get_acc(feature_list_test, target_list_test)}') #\n",
    "print(confuse_matrix(feature_list_test, target_list_test))\n"
   ]
  },
  {
   "cell_type": "code",
   "execution_count": 24,
   "metadata": {},
   "outputs": [
    {
     "name": "stdout",
     "output_type": "stream",
     "text": [
      "save cache model model_cache/model_CNNV2_201811161333\n"
     ]
    }
   ],
   "source": [
    "cache_path = \"model_cache/model_CNNV2_201811161333\"\n",
    "torch.save(model.state_dict(), cache_path)\n",
    "print(f'save cache model {cache_path}')\n"
   ]
  },
  {
   "cell_type": "code",
   "execution_count": null,
   "metadata": {},
   "outputs": [],
   "source": []
  }
 ],
 "metadata": {
  "kernelspec": {
   "display_name": "Python 3",
   "language": "python",
   "name": "python3"
  },
  "language_info": {
   "codemirror_mode": {
    "name": "ipython",
    "version": 3
   },
   "file_extension": ".py",
   "mimetype": "text/x-python",
   "name": "python",
   "nbconvert_exporter": "python",
   "pygments_lexer": "ipython3",
   "version": "3.6.5"
  }
 },
 "nbformat": 4,
 "nbformat_minor": 2
}
