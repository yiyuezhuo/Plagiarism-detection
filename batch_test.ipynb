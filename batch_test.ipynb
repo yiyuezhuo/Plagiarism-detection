{
 "cells": [
  {
   "cell_type": "code",
   "execution_count": 1,
   "metadata": {},
   "outputs": [],
   "source": [
    "import torch\n",
    "import torch.nn as nn\n",
    "import torch.nn.functional as F\n",
    "from models import CNN1DText\n",
    "#import json\n",
    "import random\n",
    "import os\n",
    "from data_process import EmbeddingManager\n",
    "\n",
    "\n",
    "#import os\n",
    "\n",
    "from evaluation_tool import EvaluationManager\n",
    "\n",
    "import models"
   ]
  },
  {
   "cell_type": "code",
   "execution_count": 2,
   "metadata": {},
   "outputs": [],
   "source": [
    "import numpy as np\n",
    "import matplotlib.pyplot as plt\n",
    "%matplotlib inline"
   ]
  },
  {
   "cell_type": "code",
   "execution_count": 3,
   "metadata": {},
   "outputs": [],
   "source": [
    "%load_ext autoreload\n",
    "%autoreload 2"
   ]
  },
  {
   "cell_type": "code",
   "execution_count": 4,
   "metadata": {},
   "outputs": [
    {
     "name": "stdout",
     "output_type": "stream",
     "text": [
      "loading data\n",
      "size 6280 -> 6143\n",
      "size 320 -> 306\n"
     ]
    }
   ],
   "source": [
    "used_embedding = 'sgns.zhihu.word'\n",
    "embedding_dir = 'embedding_tensor'\n",
    "load_cache_model = \"model_cache/model\"\n",
    "\n",
    "embedding_manager = EmbeddingManager(used_embedding, embedding_dir)\n",
    "\n",
    "\n",
    "# prepare data\n",
    "print(\"loading data\")\n",
    "feature_list, target_list = embedding_manager.load_data('traning_data.json')\n",
    "feature_list_test, target_list_test = embedding_manager.load_data('testing_data.json')\n"
   ]
  },
  {
   "cell_type": "code",
   "execution_count": 5,
   "metadata": {},
   "outputs": [],
   "source": [
    "\n",
    "model = models.CNNV2(embed_num = 259922, embed_dim = 300, class_num = 2, kernel_num = 100, kernel_sizes = (3,4,5),\n",
    "                dropout = 0.5)\n",
    "\n",
    "#embedding_obj = torch.load(os.path.join(embedding_dir, used_embedding))\n",
    "#model.use_pretrained_embedding(embedding_obj['tensor'], non_trainable = True)"
   ]
  },
  {
   "cell_type": "code",
   "execution_count": 6,
   "metadata": {},
   "outputs": [],
   "source": [
    "# The creating and training process is done in end of compare.ipynb\n",
    "\n",
    "model.load_state_dict(torch.load('model_cache/model_CNNV2_201811161333'))"
   ]
  },
  {
   "cell_type": "code",
   "execution_count": 7,
   "metadata": {},
   "outputs": [],
   "source": [
    "cuda = True\n",
    "if cuda:\n",
    "\n",
    "    feature_list = [feature.cuda() for feature in feature_list]\n",
    "    target_list = [target.cuda() for target in target_list]\n",
    "    feature_list_test = [feature.cuda() for feature in feature_list_test]\n",
    "    target_list_test = [target.cuda() for target in target_list_test]\n",
    "\n",
    "    model.cuda()\n"
   ]
  },
  {
   "cell_type": "code",
   "execution_count": 8,
   "metadata": {},
   "outputs": [],
   "source": [
    "model.train(False)\n",
    "\n",
    "evaluation_manager = EvaluationManager(model, embedding_manager, cuda = cuda)\n"
   ]
  },
  {
   "cell_type": "code",
   "execution_count": 9,
   "metadata": {},
   "outputs": [],
   "source": [
    "evaluation_manager = EvaluationManager(model, embedding_manager, cuda = cuda)\n"
   ]
  },
  {
   "cell_type": "code",
   "execution_count": null,
   "metadata": {},
   "outputs": [],
   "source": []
  },
  {
   "cell_type": "code",
   "execution_count": 10,
   "metadata": {},
   "outputs": [],
   "source": [
    "self = evaluation_manager\n",
    "doc_path = 'extracted_text/AI报告_杨帆_117106010714.docx.txt'"
   ]
  },
  {
   "cell_type": "code",
   "execution_count": 11,
   "metadata": {},
   "outputs": [],
   "source": [
    "from utils import generate_doc, generate_doc_flatten\n"
   ]
  },
  {
   "cell_type": "code",
   "execution_count": 12,
   "metadata": {},
   "outputs": [
    {
     "name": "stderr",
     "output_type": "stream",
     "text": [
      "Building prefix dict from the default dictionary ...\n",
      "Loading model from cache C:\\Users\\YIYUEZ~1\\AppData\\Local\\Temp\\jieba.cache\n",
      "Loading model cost 0.798 seconds.\n",
      "Prefix dict has been built succesfully.\n"
     ]
    },
    {
     "name": "stdout",
     "output_type": "stream",
     "text": [
      "origin length:6889 extracted length: torch.Size([1, 5939])\n"
     ]
    }
   ],
   "source": [
    "embedding_manager = self.embedding_manager\n",
    "model = self.model\n",
    "\n",
    "doc = generate_doc_flatten(doc_path)\n",
    "doc_idxs = embedding_manager.word2idx(doc)\n",
    "if self.cuda:\n",
    "    doc_idxs = doc_idxs.cuda()\n",
    "\n",
    "print(f'origin length:{len(doc)} extracted length: {doc_idxs.size()}')\n",
    "        \n"
   ]
  },
  {
   "cell_type": "code",
   "execution_count": 44,
   "metadata": {},
   "outputs": [],
   "source": [
    "ser0 = model(doc_idxs)\n"
   ]
  },
  {
   "cell_type": "code",
   "execution_count": 45,
   "metadata": {},
   "outputs": [
    {
     "data": {
      "text/plain": [
       "torch.Size([1, 2, 5915])"
      ]
     },
     "execution_count": 45,
     "metadata": {},
     "output_type": "execute_result"
    }
   ],
   "source": [
    "ser0.size()"
   ]
  },
  {
   "cell_type": "code",
   "execution_count": 46,
   "metadata": {},
   "outputs": [
    {
     "data": {
      "text/plain": [
       "(tensor(0.1386, device='cuda:0', grad_fn=<MeanBackward1>),\n",
       " tensor(6.3998, device='cuda:0', grad_fn=<StdBackward0>))"
      ]
     },
     "execution_count": 46,
     "metadata": {},
     "output_type": "execute_result"
    }
   ],
   "source": [
    "ser0.mean(),ser0.std()"
   ]
  },
  {
   "cell_type": "code",
   "execution_count": 15,
   "metadata": {},
   "outputs": [
    {
     "data": {
      "text/plain": [
       "[<matplotlib.lines.Line2D at 0x2048a327630>]"
      ]
     },
     "execution_count": 15,
     "metadata": {},
     "output_type": "execute_result"
    },
    {
     "data": {
      "image/png": "[encoded data removed]",
      "text/plain": [
       "<Figure size 432x288 with 1 Axes>"
      ]
     },
     "metadata": {},
     "output_type": "display_data"
    }
   ],
   "source": [
    "plt.plot(F.softmax(res, 1)[0,1,:].cpu().detach().numpy())"
   ]
  },
  {
   "cell_type": "code",
   "execution_count": 16,
   "metadata": {},
   "outputs": [
    {
     "name": "stdout",
     "output_type": "stream",
     "text": [
      "origin:4332 encoded: torch.Size([1, 3823]) output: torch.Size([1, 2, 3799])\n"
     ]
    }
   ],
   "source": [
    "ser = evaluation_manager.analysis_doc_batch('extracted_text/AI报告_张佳洛_117106021976.docx.txt')"
   ]
  },
  {
   "cell_type": "code",
   "execution_count": 17,
   "metadata": {},
   "outputs": [
    {
     "data": {
      "text/plain": [
       "[<matplotlib.lines.Line2D at 0x204a319e9e8>]"
      ]
     },
     "execution_count": 17,
     "metadata": {},
     "output_type": "execute_result"
    },
    {
     "data": {
      "image/png": "[encoded data removed]",
      "text/plain": [
       "<Figure size 432x288 with 1 Axes>"
      ]
     },
     "metadata": {},
     "output_type": "display_data"
    }
   ],
   "source": [
    "plt.plot(ser.cpu().detach().numpy())"
   ]
  },
  {
   "cell_type": "code",
   "execution_count": 42,
   "metadata": {},
   "outputs": [
    {
     "data": {
      "text/plain": [
       "(tensor(0.2642, device='cuda:0', grad_fn=<MeanBackward1>),\n",
       " tensor(0.3944, device='cuda:0', grad_fn=<StdBackward0>))"
      ]
     },
     "execution_count": 42,
     "metadata": {},
     "output_type": "execute_result"
    }
   ],
   "source": [
    "ser.mean(),ser.std()"
   ]
  },
  {
   "cell_type": "code",
   "execution_count": 18,
   "metadata": {},
   "outputs": [
    {
     "data": {
      "text/plain": [
       "dict_keys(['word_list', 'label_list', 'count_list', 'name_list'])"
      ]
     },
     "execution_count": 18,
     "metadata": {},
     "output_type": "execute_result"
    }
   ],
   "source": [
    "import json\n",
    "with open('traning_data.json', encoding='utf8') as f:\n",
    "    training_data = json.load(f)\n",
    "with open('testing_data.json', encoding='utf8') as f:\n",
    "    testing_data = json.load(f)\n",
    "    \n",
    "training_data.keys()"
   ]
  },
  {
   "cell_type": "code",
   "execution_count": 19,
   "metadata": {},
   "outputs": [],
   "source": [
    "import os\n",
    "def refine_name_list(name_list, new_root = 'extracted_text'):\n",
    "    new_name_list = []\n",
    "    for name in name_list:\n",
    "        stat_path = os.path.splitext(name)[0]\n",
    "        name = os.path.split(stat_path)[1]\n",
    "        path = os.path.join(new_root, name)\n",
    "        new_name_list.append(path)\n",
    "    return new_name_list"
   ]
  },
  {
   "cell_type": "code",
   "execution_count": 20,
   "metadata": {},
   "outputs": [
    {
     "name": "stdout",
     "output_type": "stream",
     "text": [
      "analysing extracted_text\\AI 报告_吕超贤_117106010741.docx.txt\n",
      "origin:5656 encoded: torch.Size([1, 5138]) output: torch.Size([1, 2, 5114])\n",
      "analysing extracted_text\\AI 报告_唐伟_117106010729.docx.txt\n",
      "origin:5124 encoded: torch.Size([1, 4215]) output: torch.Size([1, 2, 4191])\n",
      "analysing extracted_text\\AI 报告_宋梦菲_117106010766.pdf.txt\n",
      "origin:6365 encoded: torch.Size([1, 4525]) output: torch.Size([1, 2, 4501])\n",
      "analysing extracted_text\\AI 报告_张亮_117106021947.docx.txt\n",
      "origin:4568 encoded: torch.Size([1, 3448]) output: torch.Size([1, 2, 3424])\n",
      "analysing extracted_text\\AI 报告_蔡鸿杰_117106010756.docx.txt\n",
      "origin:4514 encoded: torch.Size([1, 3873]) output: torch.Size([1, 2, 3849])\n",
      "analysing extracted_text\\AI 报告_许成豪_117106021893 (1).docx.txt\n",
      "origin:1916 encoded: torch.Size([1, 1812]) output: torch.Size([1, 2, 1788])\n",
      "analysing extracted_text\\AI 报告_许成豪_117106021893.docx.txt\n",
      "origin:3362 encoded: torch.Size([1, 3147]) output: torch.Size([1, 2, 3123])\n",
      "analysing extracted_text\\AI 报告_许杰_117106010696.docx.txt\n",
      "origin:3388 encoded: torch.Size([1, 3154]) output: torch.Size([1, 2, 3130])\n",
      "analysing extracted_text\\AI 报告_谭镭_117106021961.docx.txt\n",
      "origin:3981 encoded: torch.Size([1, 3554]) output: torch.Size([1, 2, 3530])\n",
      "analysing extracted_text\\AI 报告_赵玉英_117106010740.doc.txt\n",
      "origin:4343 encoded: torch.Size([1, 3344]) output: torch.Size([1, 2, 3320])\n",
      "analysing extracted_text\\AI 报告_陆峰_117106021882.pdf.txt\n",
      "origin:6026 encoded: torch.Size([1, 4812]) output: torch.Size([1, 2, 4788])\n",
      "analysing extracted_text\\AI 报告_韩慧_117106010759.pdf.txt\n",
      "origin:7564 encoded: torch.Size([1, 5383]) output: torch.Size([1, 2, 5359])\n",
      "analysing extracted_text\\AI+汤爽+117106032752.docx.txt\n",
      "origin:4043 encoded: torch.Size([1, 3653]) output: torch.Size([1, 2, 3629])\n",
      "analysing extracted_text\\AI-人工智能在信用评级领域的应用-冯长驹-117106010738.docx.txt\n",
      "origin:3585 encoded: torch.Size([1, 3140]) output: torch.Size([1, 2, 3116])\n",
      "analysing extracted_text\\AI▒¿╕µ_╛░πⁿ∞│_516106001778.docx.txt\n",
      "origin:6992 encoded: torch.Size([1, 6194]) output: torch.Size([1, 2, 6170])\n",
      "analysing extracted_text\\AI▒¿╕µ_╛░πⁿ∞│_516106001778.pdf.txt\n",
      "origin:7820 encoded: torch.Size([1, 6313]) output: torch.Size([1, 2, 6289])\n",
      "analysing extracted_text\\AI▒¿╕µ_╢┼╥µ─■_117106032741.docx.txt\n",
      "origin:5479 encoded: torch.Size([1, 4906]) output: torch.Size([1, 2, 4882])\n",
      "analysing extracted_text\\AI▒¿╕µ_╢┼╥µ─■_117106032741.pdf.txt\n",
      "origin:6851 encoded: torch.Size([1, 5165]) output: torch.Size([1, 2, 5141])\n",
      "analysing extracted_text\\AI▒¿╕µ_╣∙╫╙║π_117106021981.doc.txt\n",
      "origin:8564 encoded: torch.Size([1, 7883]) output: torch.Size([1, 2, 7859])\n",
      "analysing extracted_text\\AI▒¿╕µ_╣∙╫╙║π_117106021981.pdf.txt\n",
      "origin:9838 encoded: torch.Size([1, 8075]) output: torch.Size([1, 2, 8051])\n",
      "analysing extracted_text\\AI▒¿╕µ_╤ε╢≈╞╜_117106021930.docx.txt\n",
      "origin:4584 encoded: torch.Size([1, 3708]) output: torch.Size([1, 2, 3684])\n",
      "analysing extracted_text\\AI▒¿╕µ_╤ε╢≈╞╜_117106021930.pdf.txt\n",
      "origin:5136 encoded: torch.Size([1, 3900]) output: torch.Size([1, 2, 3876])\n",
      "analysing extracted_text\\AI▒¿╕µ_╨√┐¡╓▐_117106010706.docx.txt\n",
      "origin:6670 encoded: torch.Size([1, 5917]) output: torch.Size([1, 2, 5893])\n",
      "analysing extracted_text\\AI▒¿╕µ_╨√┐¡╓▐_117106010706.pdf.txt\n",
      "origin:3517 encoded: torch.Size([1, 882]) output: torch.Size([1, 2, 858])\n",
      "analysing extracted_text\\AI报告-吴胖-117106032748.doc.txt\n",
      "origin:3864 encoded: torch.Size([1, 3280]) output: torch.Size([1, 2, 3256])\n",
      "analysing extracted_text\\AI报告-吴轶凡-117106021953.docx.txt\n",
      "origin:3857 encoded: torch.Size([1, 3426]) output: torch.Size([1, 2, 3402])\n",
      "analysing extracted_text\\AI报告-姚文-117106021903.doc.txt\n",
      "origin:5269 encoded: torch.Size([1, 4600]) output: torch.Size([1, 2, 4576])\n",
      "analysing extracted_text\\AI报告-张亚楠-117106021921 (1).docx.txt\n",
      "origin:4182 encoded: torch.Size([1, 3850]) output: torch.Size([1, 2, 3826])\n",
      "analysing extracted_text\\AI报告-张亚楠-117106021921.docx.txt\n",
      "origin:4182 encoded: torch.Size([1, 3858]) output: torch.Size([1, 2, 3834])\n",
      "analysing extracted_text\\AI报告-张文翔-117106032746.docx.txt\n",
      "origin:5113 encoded: torch.Size([1, 4357]) output: torch.Size([1, 2, 4333])\n",
      "analysing extracted_text\\AI报告-梁潇-117106021932.docx.txt\n",
      "origin:4066 encoded: torch.Size([1, 3492]) output: torch.Size([1, 2, 3468])\n",
      "analysing extracted_text\\AI报告-楚榕珍-117107010882.docx.txt\n",
      "origin:11514 encoded: torch.Size([1, 9210]) output: torch.Size([1, 2, 9186])\n",
      "analysing extracted_text\\AI报告-顾昳丽-516106001784.docx.txt\n",
      "origin:3043 encoded: torch.Size([1, 2636]) output: torch.Size([1, 2, 2612])\n",
      "analysing extracted_text\\AI报告_117106010755_秦波.docx.txt\n",
      "origin:3180 encoded: torch.Size([1, 2959]) output: torch.Size([1, 2, 2935])\n",
      "analysing extracted_text\\AI报告_乔笑_117106021907 (1).docx.txt\n",
      "origin:5285 encoded: torch.Size([1, 4905]) output: torch.Size([1, 2, 4881])\n",
      "analysing extracted_text\\AI报告_乔笑_117106021907.docx.txt\n",
      "origin:5285 encoded: torch.Size([1, 4905]) output: torch.Size([1, 2, 4881])\n",
      "analysing extracted_text\\AI报告_余楚恒_117106021951.docx.txt\n",
      "origin:4800 encoded: torch.Size([1, 4285]) output: torch.Size([1, 2, 4261])\n",
      "analysing extracted_text\\AI报告_侯立贺_117106010757.docx.txt\n",
      "origin:3385 encoded: torch.Size([1, 2902]) output: torch.Size([1, 2, 2878])\n",
      "analysing extracted_text\\AI报告_刘丝雨_117106021912.doc.txt\n",
      "origin:5531 encoded: torch.Size([1, 4374]) output: torch.Size([1, 2, 4350])\n",
      "analysing extracted_text\\AI报告_刘嘉_117106010707.docx.txt\n",
      "origin:4098 encoded: torch.Size([1, 3754]) output: torch.Size([1, 2, 3730])\n",
      "analysing extracted_text\\AI报告_刘志勇_117106010704.docx.txt\n",
      "origin:3288 encoded: torch.Size([1, 3115]) output: torch.Size([1, 2, 3091])\n",
      "analysing extracted_text\\AI报告_刘昊哲_117106021958.docx.txt\n",
      "origin:7534 encoded: torch.Size([1, 6695]) output: torch.Size([1, 2, 6671])\n",
      "analysing extracted_text\\AI报告_刘晨阳_117106021883.docx.txt\n",
      "origin:5565 encoded: torch.Size([1, 4651]) output: torch.Size([1, 2, 4627])\n",
      "analysing extracted_text\\AI报告_刘聪_117106021873.docx.txt\n",
      "origin:3728 encoded: torch.Size([1, 3366]) output: torch.Size([1, 2, 3342])\n",
      "analysing extracted_text\\AI报告_刘镇江_117106021955.docx.txt\n",
      "origin:4171 encoded: torch.Size([1, 3723]) output: torch.Size([1, 2, 3699])\n",
      "analysing extracted_text\\AI报告_史红_117106010710.docx.txt\n",
      "origin:14532 encoded: torch.Size([1, 4143]) output: torch.Size([1, 2, 4119])\n",
      "analysing extracted_text\\AI报告_叶梓珩_117106021906.docx.txt\n",
      "origin:4416 encoded: torch.Size([1, 3876]) output: torch.Size([1, 2, 3852])\n",
      "analysing extracted_text\\AI报告_吕辉_117106010753.docx.txt\n",
      "origin:4695 encoded: torch.Size([1, 4153]) output: torch.Size([1, 2, 4129])\n",
      "analysing extracted_text\\AI报告_吴介_117106021904.docx.txt\n",
      "origin:4930 encoded: torch.Size([1, 4627]) output: torch.Size([1, 2, 4603])\n",
      "analysing extracted_text\\AI报告_周亚茹_117106032751.docx.txt\n",
      "origin:3395 encoded: torch.Size([1, 3010]) output: torch.Size([1, 2, 2986])\n",
      "analysing extracted_text\\AI报告_周天鹏_117106021922.docx.txt\n",
      "origin:4348 encoded: torch.Size([1, 3666]) output: torch.Size([1, 2, 3642])\n",
      "analysing extracted_text\\AI报告_周子韬_117106010748.doc.txt\n",
      "origin:5378 encoded: torch.Size([1, 4515]) output: torch.Size([1, 2, 4491])\n",
      "analysing extracted_text\\AI报告_周昌鑫_117106010691.docx.txt\n",
      "origin:3829 encoded: torch.Size([1, 3208]) output: torch.Size([1, 2, 3184])\n",
      "analysing extracted_text\\AI报告_姚强_117106010722 (1).docx.txt\n",
      "origin:5551 encoded: torch.Size([1, 5067]) output: torch.Size([1, 2, 5043])\n",
      "analysing extracted_text\\AI报告_姚强_117106010722.docx.txt\n",
      "origin:5504 encoded: torch.Size([1, 5044]) output: torch.Size([1, 2, 5020])\n",
      "analysing extracted_text\\AI报告_姚文_117106021903.doc.txt\n",
      "origin:5279 encoded: torch.Size([1, 4595]) output: torch.Size([1, 2, 4571])\n",
      "analysing extracted_text\\AI报告_姚澜_117106021909 (1).docx.txt\n",
      "origin:3495 encoded: torch.Size([1, 3230]) output: torch.Size([1, 2, 3206])\n",
      "analysing extracted_text\\AI报告_姚澜_117106021909.docx.txt\n",
      "origin:3488 encoded: torch.Size([1, 3222]) output: torch.Size([1, 2, 3198])\n",
      "analysing extracted_text\\AI报告_姚钺_117106021940.doc.txt\n",
      "origin:4416 encoded: torch.Size([1, 3679]) output: torch.Size([1, 2, 3655])\n",
      "analysing extracted_text\\AI报告_姜希若_117106021941 (1).docx.txt\n",
      "origin:7065 encoded: torch.Size([1, 5934]) output: torch.Size([1, 2, 5910])\n",
      "analysing extracted_text\\AI报告_姜希若_117106021941.docx.txt\n",
      "origin:7065 encoded: torch.Size([1, 5934]) output: torch.Size([1, 2, 5910])\n",
      "analysing extracted_text\\AI报告_孔岳_117106021937.docx.txt\n",
      "origin:4004 encoded: torch.Size([1, 3545]) output: torch.Size([1, 2, 3521])\n",
      "analysing extracted_text\\AI报告_孙鑫_117106021891.docx.txt\n",
      "origin:6728 encoded: torch.Size([1, 6126]) output: torch.Size([1, 2, 6102])\n"
     ]
    },
    {
     "name": "stdout",
     "output_type": "stream",
     "text": [
      "analysing extracted_text\\AI报告_宋燕军_117106010743.docx.txt\n",
      "origin:6641 encoded: torch.Size([1, 5370]) output: torch.Size([1, 2, 5346])\n",
      "analysing extracted_text\\AI报告_居思刚_117106021957.docx.txt\n",
      "origin:5991 encoded: torch.Size([1, 5584]) output: torch.Size([1, 2, 5560])\n",
      "analysing extracted_text\\AI报告_庾安妮_117106021905 (1).docx.txt\n",
      "origin:4280 encoded: torch.Size([1, 3471]) output: torch.Size([1, 2, 3447])\n",
      "analysing extracted_text\\AI报告_庾安妮_117106021905.docx.txt\n",
      "origin:4273 encoded: torch.Size([1, 3466]) output: torch.Size([1, 2, 3442])\n",
      "analysing extracted_text\\AI报告_张佳洛_117106021976.docx.txt\n",
      "origin:4332 encoded: torch.Size([1, 3823]) output: torch.Size([1, 2, 3799])\n",
      "analysing extracted_text\\AI报告_张基文_117106021920.docx.txt\n",
      "origin:3609 encoded: torch.Size([1, 3297]) output: torch.Size([1, 2, 3273])\n",
      "analysing extracted_text\\AI报告_张子辰_117106021979.docx.txt\n",
      "origin:3544 encoded: torch.Size([1, 3171]) output: torch.Size([1, 2, 3147])\n",
      "analysing extracted_text\\AI报告_张寓_117106010687.docx.txt\n",
      "origin:4358 encoded: torch.Size([1, 4118]) output: torch.Size([1, 2, 4094])\n",
      "analysing extracted_text\\AI报告_张文舟_117106021910.docx.txt\n",
      "origin:3217 encoded: torch.Size([1, 2881]) output: torch.Size([1, 2, 2857])\n",
      "analysing extracted_text\\AI报告_张炽华_117106010713.docx.txt\n",
      "origin:3520 encoded: torch.Size([1, 3151]) output: torch.Size([1, 2, 3127])\n",
      "analysing extracted_text\\AI报告_张远超_117106021899.docx.txt\n",
      "origin:3989 encoded: torch.Size([1, 3558]) output: torch.Size([1, 2, 3534])\n",
      "analysing extracted_text\\AI报告_张闻轩_117106010716.docx.txt\n",
      "origin:6334 encoded: torch.Size([1, 5706]) output: torch.Size([1, 2, 5682])\n",
      "analysing extracted_text\\AI报告_张雨朵_117106021926.docx.txt\n",
      "origin:3695 encoded: torch.Size([1, 3233]) output: torch.Size([1, 2, 3209])\n",
      "analysing extracted_text\\AI报告_彭伟航_117106021897 (1).docx.txt\n",
      "origin:1367 encoded: torch.Size([1, 1143]) output: torch.Size([1, 2, 1119])\n",
      "analysing extracted_text\\AI报告_彭伟航_117106021897.docx.txt\n",
      "origin:6801 encoded: torch.Size([1, 6131]) output: torch.Size([1, 2, 6107])\n",
      "analysing extracted_text\\AI报告_徐倩倩_117106021916.docx.txt\n",
      "origin:6392 encoded: torch.Size([1, 5380]) output: torch.Size([1, 2, 5356])\n",
      "analysing extracted_text\\AI报告_徐庆达_117106032743.docx.txt\n",
      "origin:3966 encoded: torch.Size([1, 3569]) output: torch.Size([1, 2, 3545])\n",
      "analysing extracted_text\\AI报告_徐瑞_117106021892.docx.txt\n",
      "origin:4102 encoded: torch.Size([1, 3769]) output: torch.Size([1, 2, 3745])\n",
      "analysing extracted_text\\AI报告_徐益民_117106021886.docx.txt\n",
      "origin:3450 encoded: torch.Size([1, 3167]) output: torch.Size([1, 2, 3143])\n",
      "analysing extracted_text\\AI报告_惠啸_117106021880.docx.txt\n",
      "origin:8443 encoded: torch.Size([1, 7601]) output: torch.Size([1, 2, 7577])\n",
      "analysing extracted_text\\AI报告_戴汪洋_117106021928.docx.txt\n",
      "origin:3098 encoded: torch.Size([1, 2919]) output: torch.Size([1, 2, 2895])\n",
      "analysing extracted_text\\AI报告_朱人杰_117106021887.docx.txt\n",
      "origin:6211 encoded: torch.Size([1, 5835]) output: torch.Size([1, 2, 5811])\n",
      "analysing extracted_text\\AI报告_朱慧君_117106021888.docx.txt\n",
      "origin:4400 encoded: torch.Size([1, 3964]) output: torch.Size([1, 2, 3940])\n",
      "analysing extracted_text\\AI报告_朱星宇_117106021965.docx.txt\n",
      "origin:3032 encoded: torch.Size([1, 2861]) output: torch.Size([1, 2, 2837])\n",
      "analysing extracted_text\\AI报告_朱贤斌_117106021908.docx.txt\n",
      "origin:3721 encoded: torch.Size([1, 3387]) output: torch.Size([1, 2, 3363])\n",
      "analysing extracted_text\\AI报告_朱赛赛_117106021917(1).docx.txt\n",
      "origin:3523 encoded: torch.Size([1, 3075]) output: torch.Size([1, 2, 3051])\n",
      "analysing extracted_text\\AI报告_朱赛赛_117106021917.docx.txt\n",
      "origin:3419 encoded: torch.Size([1, 3069]) output: torch.Size([1, 2, 3045])\n",
      "analysing extracted_text\\AI报告_李凯文_117106010685.docx.txt\n",
      "origin:4004 encoded: torch.Size([1, 3710]) output: torch.Size([1, 2, 3686])\n",
      "analysing extracted_text\\AI报告_李婷_117107010890.doc.txt\n",
      "origin:4572 encoded: torch.Size([1, 3685]) output: torch.Size([1, 2, 3661])\n",
      "analysing extracted_text\\AI报告_李荣臻_117106032750.docx.txt\n",
      "origin:3600 encoded: torch.Size([1, 3223]) output: torch.Size([1, 2, 3199])\n",
      "analysing extracted_text\\AI报告_杜婧_117106010703.doc.txt\n",
      "origin:5132 encoded: torch.Size([1, 4525]) output: torch.Size([1, 2, 4501])\n",
      "analysing extracted_text\\AI报告_杨冰_117106010754.docx.txt\n",
      "origin:4094 encoded: torch.Size([1, 3759]) output: torch.Size([1, 2, 3735])\n",
      "analysing extracted_text\\AI报告_杨帆_117106010714 (1).docx.txt\n",
      "origin:6774 encoded: torch.Size([1, 5925]) output: torch.Size([1, 2, 5901])\n",
      "analysing extracted_text\\AI报告_杨帆_117106010714.docx.txt\n",
      "origin:6889 encoded: torch.Size([1, 5939]) output: torch.Size([1, 2, 5915])\n",
      "analysing extracted_text\\AI报告_杨晓月_117106021895.docx.txt\n",
      "origin:3393 encoded: torch.Size([1, 3020]) output: torch.Size([1, 2, 2996])\n",
      "analysing extracted_text\\AI报告_杨晴_117106021971.docx.txt\n",
      "origin:5105 encoded: torch.Size([1, 4428]) output: torch.Size([1, 2, 4404])\n",
      "analysing extracted_text\\AI报告_杨欧亚_117106021964.docx.txt\n",
      "origin:5720 encoded: torch.Size([1, 4962]) output: torch.Size([1, 2, 4938])\n",
      "analysing extracted_text\\AI报告_柯京辰_117106021938.doc.txt\n",
      "origin:4047 encoded: torch.Size([1, 3365]) output: torch.Size([1, 2, 3341])\n",
      "analysing extracted_text\\AI报告_柴子琪_117106010752.docx.txt\n",
      "origin:5772 encoded: torch.Size([1, 5159]) output: torch.Size([1, 2, 5135])\n",
      "analysing extracted_text\\AI报告_桑笑楠_117106010747.pdf.txt\n",
      "origin:3896 encoded: torch.Size([1, 3312]) output: torch.Size([1, 2, 3288])\n",
      "analysing extracted_text\\AI报告_毛华奇_117106021977.docx.txt\n",
      "origin:8163 encoded: torch.Size([1, 7687]) output: torch.Size([1, 2, 7663])\n",
      "analysing extracted_text\\AI报告_江涛_117106021952.docx.txt\n",
      "origin:4253 encoded: torch.Size([1, 3940]) output: torch.Size([1, 2, 3916])\n",
      "analysing extracted_text\\AI报告_沈东风_117106010734.docx.txt\n",
      "origin:5254 encoded: torch.Size([1, 4319]) output: torch.Size([1, 2, 4295])\n",
      "analysing extracted_text\\AI报告_潘琳琳_117106021875.docx.txt\n",
      "origin:3988 encoded: torch.Size([1, 3589]) output: torch.Size([1, 2, 3565])\n",
      "analysing extracted_text\\AI报告_牟升_117106021929.doc.txt\n",
      "origin:5236 encoded: torch.Size([1, 4488]) output: torch.Size([1, 2, 4464])\n",
      "analysing extracted_text\\AI报告_牟甲鹏_117106021969.docx.txt\n",
      "origin:6046 encoded: torch.Size([1, 5334]) output: torch.Size([1, 2, 5310])\n",
      "analysing extracted_text\\AI报告_王佳贺_117106010772.docx.txt\n",
      "origin:7646 encoded: torch.Size([1, 6887]) output: torch.Size([1, 2, 6863])\n",
      "analysing extracted_text\\AI报告_王凡海_117106010690.docx.txt\n",
      "origin:3844 encoded: torch.Size([1, 3498]) output: torch.Size([1, 2, 3474])\n",
      "analysing extracted_text\\AI报告_王希冀_117106010711.docx.txt\n",
      "origin:7157 encoded: torch.Size([1, 6628]) output: torch.Size([1, 2, 6604])\n",
      "analysing extracted_text\\AI报告_王恰_117106021913.docx.txt\n",
      "origin:4797 encoded: torch.Size([1, 4167]) output: torch.Size([1, 2, 4143])\n",
      "analysing extracted_text\\AI报告_王振鹏_117106010733.doc.txt\n",
      "origin:5154 encoded: torch.Size([1, 4304]) output: torch.Size([1, 2, 4280])\n",
      "analysing extracted_text\\AI报告_王琨_117106021919.docx.txt\n",
      "origin:3268 encoded: torch.Size([1, 2782]) output: torch.Size([1, 2, 2758])\n",
      "analysing extracted_text\\AI报告_王胤多_117106021933.docx.txt\n",
      "origin:8374 encoded: torch.Size([1, 7178]) output: torch.Size([1, 2, 7154])\n",
      "analysing extracted_text\\AI报告_王轶轩_117106021915.docx.txt\n",
      "origin:9951 encoded: torch.Size([1, 8685]) output: torch.Size([1, 2, 8661])\n",
      "analysing extracted_text\\AI报告_王钥萱_117106010699.pdf.txt\n",
      "origin:9494 encoded: torch.Size([1, 7953]) output: torch.Size([1, 2, 7929])\n",
      "analysing extracted_text\\AI报告_瞿曦超_117106021946.docx.txt\n",
      "origin:4557 encoded: torch.Size([1, 4213]) output: torch.Size([1, 2, 4189])\n",
      "analysing extracted_text\\AI报告_石园_117106021885.pdf.txt\n",
      "origin:5147 encoded: torch.Size([1, 3829]) output: torch.Size([1, 2, 3805])\n",
      "analysing extracted_text\\AI报告_石曼淑_117106021959.doc.txt\n",
      "origin:3711 encoded: torch.Size([1, 3079]) output: torch.Size([1, 2, 3055])\n",
      "analysing extracted_text\\AI报告_祁玉_117106021924.docx.txt\n",
      "origin:4118 encoded: torch.Size([1, 3757]) output: torch.Size([1, 2, 3733])\n",
      "analysing extracted_text\\AI报告_祝娇_117106010723.docx.txt\n",
      "origin:8502 encoded: torch.Size([1, 6160]) output: torch.Size([1, 2, 6136])\n",
      "analysing extracted_text\\AI报告_程其华_117106010739.docx.txt\n",
      "origin:4116 encoded: torch.Size([1, 3839]) output: torch.Size([1, 2, 3815])\n",
      "analysing extracted_text\\AI报告_童雪东_117106021874.docx.txt\n",
      "origin:3644 encoded: torch.Size([1, 3330]) output: torch.Size([1, 2, 3306])\n",
      "analysing extracted_text\\AI报告_胡明昕_117106010721.docx.txt\n",
      "origin:3292 encoded: torch.Size([1, 3057]) output: torch.Size([1, 2, 3033])\n",
      "analysing extracted_text\\AI报告_范嘉捷_117106010745.docx.txt\n",
      "origin:4437 encoded: torch.Size([1, 3898]) output: torch.Size([1, 2, 3874])\n",
      "analysing extracted_text\\AI报告_范涛_117107010880.docx.txt\n",
      "origin:6249 encoded: torch.Size([1, 5121]) output: torch.Size([1, 2, 5097])\n",
      "analysing extracted_text\\AI报告_范鑫怡_117106021956.pdf.txt\n"
     ]
    },
    {
     "name": "stdout",
     "output_type": "stream",
     "text": [
      "origin:6144 encoded: torch.Size([1, 4970]) output: torch.Size([1, 2, 4946])\n",
      "analysing extracted_text\\AI报告_董福洋_117106032707.doc.txt\n",
      "origin:4142 encoded: torch.Size([1, 3604]) output: torch.Size([1, 2, 3580])\n",
      "analysing extracted_text\\AI报告_蒋鹏飞_117106021927.docx.txt\n",
      "origin:10363 encoded: torch.Size([1, 9181]) output: torch.Size([1, 2, 9157])\n",
      "analysing extracted_text\\AI报告_薛栋吉_117106010684.pdf.txt\n",
      "origin:6171 encoded: torch.Size([1, 4859]) output: torch.Size([1, 2, 4835])\n",
      "analysing extracted_text\\AI报告_袁伟强_117106010727.docx.txt\n",
      "origin:6293 encoded: torch.Size([1, 5312]) output: torch.Size([1, 2, 5288])\n",
      "analysing extracted_text\\AI报告_訾烨_117106010694.docx.txt\n",
      "origin:6872 encoded: torch.Size([1, 6010]) output: torch.Size([1, 2, 5986])\n",
      "analysing extracted_text\\AI报告_许燕_117106010737.docx.txt\n",
      "origin:5036 encoded: torch.Size([1, 4441]) output: torch.Size([1, 2, 4417])\n",
      "analysing extracted_text\\AI报告_许诗瑞_117106021925.docx.txt\n",
      "origin:3666 encoded: torch.Size([1, 3279]) output: torch.Size([1, 2, 3255])\n",
      "analysing extracted_text\\AI报告_许逸超_117106021881.docx.txt\n",
      "origin:4588 encoded: torch.Size([1, 4004]) output: torch.Size([1, 2, 3980])\n",
      "analysing extracted_text\\AI报告_谭婷婷_117106021966.docx.txt\n",
      "origin:4518 encoded: torch.Size([1, 3760]) output: torch.Size([1, 2, 3736])\n",
      "analysing extracted_text\\AI报告_赵翔宇_117106010749.pdf.txt\n",
      "origin:5023 encoded: torch.Size([1, 4308]) output: torch.Size([1, 2, 4284])\n",
      "analysing extracted_text\\AI报告_邵帅_117106021884.docx.txt\n",
      "origin:4424 encoded: torch.Size([1, 3982]) output: torch.Size([1, 2, 3958])\n",
      "analysing extracted_text\\AI报告_郑圣杰_117106032749.docx.txt\n",
      "origin:3391 encoded: torch.Size([1, 3169]) output: torch.Size([1, 2, 3145])\n",
      "analysing extracted_text\\AI报告_郑尚东_117106021975.doc.txt\n",
      "origin:9441 encoded: torch.Size([1, 7679]) output: torch.Size([1, 2, 7655])\n",
      "analysing extracted_text\\AI报告_郑睿莘_117106021934.docx.txt\n",
      "origin:3290 encoded: torch.Size([1, 2937]) output: torch.Size([1, 2, 2913])\n",
      "analysing extracted_text\\AI报告_郭煜_117106010695.pdf.txt\n",
      "origin:3946 encoded: torch.Size([1, 3243]) output: torch.Size([1, 2, 3219])\n",
      "analysing extracted_text\\AI报告_陈伟星_117106032722.docx.txt\n",
      "origin:3773 encoded: torch.Size([1, 3462]) output: torch.Size([1, 2, 3438])\n",
      "analysing extracted_text\\AI报告_陈兴华_117106010697.docx.txt\n",
      "origin:4175 encoded: torch.Size([1, 3842]) output: torch.Size([1, 2, 3818])\n",
      "analysing extracted_text\\AI报告_陈明玥_117106021876.docx.txt\n",
      "origin:4183 encoded: torch.Size([1, 3874]) output: torch.Size([1, 2, 3850])\n",
      "analysing extracted_text\\AI报告_陈淅灿_117106010717.docx.txt\n",
      "origin:5282 encoded: torch.Size([1, 4771]) output: torch.Size([1, 2, 4747])\n",
      "analysing extracted_text\\AI报告_陈盛之_117106021974.docx.txt\n",
      "origin:3499 encoded: torch.Size([1, 3195]) output: torch.Size([1, 2, 3171])\n",
      "analysing extracted_text\\AI报告_顾一凡_117106021901 (1).docx.txt\n",
      "origin:7437 encoded: torch.Size([1, 6431]) output: torch.Size([1, 2, 6407])\n",
      "analysing extracted_text\\AI报告_顾一凡_117106021901.docx.txt\n",
      "origin:7437 encoded: torch.Size([1, 6431]) output: torch.Size([1, 2, 6407])\n",
      "analysing extracted_text\\AI报告_颜斌_117106021890.docx.txt\n",
      "origin:4500 encoded: torch.Size([1, 4037]) output: torch.Size([1, 2, 4013])\n",
      "analysing extracted_text\\AI报告_马娜_117106021945.docx.txt\n",
      "origin:6556 encoded: torch.Size([1, 5602]) output: torch.Size([1, 2, 5578])\n",
      "analysing extracted_text\\AI报告_黄庆康_117106010700.pdf.txt\n",
      "origin:5491 encoded: torch.Size([1, 4329]) output: torch.Size([1, 2, 4305])\n",
      "analysing extracted_text\\AI报告麻孟越117106121972.docx.txt\n",
      "origin:4652 encoded: torch.Size([1, 4240]) output: torch.Size([1, 2, 4216])\n",
      "analysing extracted_text\\人工智能2017综述报告（AI报告_邵帅_117106021884）.doc.txt\n",
      "origin:338 encoded: torch.Size([1, 263]) output: torch.Size([1, 2, 239])\n",
      "analysing extracted_text\\智能机器人的发展与应用_桑笑楠_117106010747.pdf.txt\n",
      "origin:3896 encoded: torch.Size([1, 3312]) output: torch.Size([1, 2, 3288])\n"
     ]
    }
   ],
   "source": [
    "training_prob_list = []\n",
    "for path in refine_name_list(training_data['name_list']):\n",
    "    print(f'analysing {path}')\n",
    "    training_prob_list.append(evaluation_manager.analysis_doc_batch(path).cpu().detach().numpy()) \n",
    "    # if save gpu tensor directly, we will find out of gpu memory.\n"
   ]
  },
  {
   "cell_type": "code",
   "execution_count": 21,
   "metadata": {},
   "outputs": [
    {
     "name": "stdout",
     "output_type": "stream",
     "text": [
      "analysing extracted_text\\AI报告-吴胖-117106032748.doc.txt\n",
      "origin:3864 encoded: torch.Size([1, 3280]) output: torch.Size([1, 2, 3256])\n",
      "analysing extracted_text\\AI报告-吴轶凡-117106021953.docx.txt\n",
      "origin:3857 encoded: torch.Size([1, 3426]) output: torch.Size([1, 2, 3402])\n",
      "analysing extracted_text\\AI报告-姚文-117106021903.doc.txt\n",
      "origin:5269 encoded: torch.Size([1, 4600]) output: torch.Size([1, 2, 4576])\n",
      "analysing extracted_text\\AI报告-张亚楠-117106021921 (1).docx.txt\n",
      "origin:4182 encoded: torch.Size([1, 3850]) output: torch.Size([1, 2, 3826])\n",
      "analysing extracted_text\\AI报告-张亚楠-117106021921.docx.txt\n",
      "origin:4182 encoded: torch.Size([1, 3858]) output: torch.Size([1, 2, 3834])\n",
      "analysing extracted_text\\AI报告-张文翔-117106032746.docx.txt\n",
      "origin:5113 encoded: torch.Size([1, 4357]) output: torch.Size([1, 2, 4333])\n",
      "analysing extracted_text\\AI报告-梁潇-117106021932.docx.txt\n",
      "origin:4066 encoded: torch.Size([1, 3492]) output: torch.Size([1, 2, 3468])\n",
      "analysing extracted_text\\AI报告-楚榕珍-117107010882.docx.txt\n",
      "origin:11514 encoded: torch.Size([1, 9210]) output: torch.Size([1, 2, 9186])\n"
     ]
    }
   ],
   "source": [
    "testing_prob_list = []\n",
    "for path in refine_name_list(testing_data['name_list']):\n",
    "    print(f'analysing {path}')\n",
    "    testing_prob_list.append(evaluation_manager.analysis_doc_batch(path).cpu().detach().numpy())\n"
   ]
  },
  {
   "cell_type": "code",
   "execution_count": 22,
   "metadata": {},
   "outputs": [
    {
     "data": {
      "text/plain": [
       "(157, 5114)"
      ]
     },
     "execution_count": 22,
     "metadata": {},
     "output_type": "execute_result"
    }
   ],
   "source": [
    "len(training_prob_list),len(training_prob_list[0])"
   ]
  },
  {
   "cell_type": "code",
   "execution_count": 23,
   "metadata": {},
   "outputs": [
    {
     "data": {
      "image/png": "[encoded data removed]",
      "text/plain": [
       "<Figure size 432x288 with 1 Axes>"
      ]
     },
     "metadata": {},
     "output_type": "display_data"
    }
   ],
   "source": [
    "plt.plot(training_data['count_list'], [np.mean(prob) for prob in training_prob_list],'o')\n",
    "plt.xlabel('count')\n",
    "plt.ylabel('mean prob')\n",
    "plt.show()"
   ]
  },
  {
   "cell_type": "code",
   "execution_count": 24,
   "metadata": {},
   "outputs": [
    {
     "data": {
      "image/png": "[encoded data removed]",
      "text/plain": [
       "<Figure size 432x288 with 1 Axes>"
      ]
     },
     "metadata": {},
     "output_type": "display_data"
    }
   ],
   "source": [
    "plt.plot(testing_data['count_list'], [np.mean(prob) for prob in testing_prob_list],'o')\n",
    "plt.xlabel('count')\n",
    "plt.ylabel('mean prob')\n",
    "plt.show()"
   ]
  },
  {
   "cell_type": "code",
   "execution_count": 25,
   "metadata": {},
   "outputs": [],
   "source": [
    "from torchviz import make_dot, make_dot_from_trace\n"
   ]
  },
  {
   "cell_type": "code",
   "execution_count": 26,
   "metadata": {},
   "outputs": [
    {
     "data": {
      "image/svg+xml": [
       "<?xml version=\"1.0\" encoding=\"UTF-8\" standalone=\"no\"?>\r\n",
       "<!DOCTYPE svg PUBLIC \"-//W3C//DTD SVG 1.1//EN\"\r\n",
       " \"http://www.w3.org/Graphics/SVG/1.1/DTD/svg11.dtd\">\r\n",
       "<!-- Generated by graphviz version 2.38.0 (20140413.2041)\r\n",
       " -->\r\n",
       "<!-- Title: %3 Pages: 1 -->\r\n",
       "<svg width=\"678pt\" height=\"826pt\"\r\n",
       " viewBox=\"0.00 0.00 677.50 826.00\" xmlns=\"http://www.w3.org/2000/svg\" xmlns:xlink=\"http://www.w3.org/1999/xlink\">\r\n",
       "<g id=\"graph0\" class=\"graph\" transform=\"scale(1 1) rotate(0) translate(4 822)\">\r\n",
       "<title>%3</title>\r\n",
       "<polygon fill=\"white\" stroke=\"none\" points=\"-4,4 -4,-822 673.5,-822 673.5,4 -4,4\"/>\r\n",
       "<!-- 2218948103976 -->\r\n",
       "<g id=\"node1\" class=\"node\"><title>2218948103976</title>\r\n",
       "<polygon fill=\"#caff70\" stroke=\"black\" points=\"530,-21 422,-21 422,-0 530,-0 530,-21\"/>\r\n",
       "<text text-anchor=\"middle\" x=\"476\" y=\"-7.4\" font-family=\"Times New Roman,serif\" font-size=\"12.00\">SqueezeBackward1</text>\r\n",
       "</g>\r\n",
       "<!-- 2218948101848 -->\r\n",
       "<g id=\"node2\" class=\"node\"><title>2218948101848</title>\r\n",
       "<polygon fill=\"lightgrey\" stroke=\"black\" points=\"550.5,-78 401.5,-78 401.5,-57 550.5,-57 550.5,-78\"/>\r\n",
       "<text text-anchor=\"middle\" x=\"476\" y=\"-64.4\" font-family=\"Times New Roman,serif\" font-size=\"12.00\">CudnnConvolutionBackward</text>\r\n",
       "</g>\r\n",
       "<!-- 2218948101848&#45;&gt;2218948103976 -->\r\n",
       "<g id=\"edge1\" class=\"edge\"><title>2218948101848&#45;&gt;2218948103976</title>\r\n",
       "<path fill=\"none\" stroke=\"black\" d=\"M476,-56.9197C476,-49.9083 476,-40.1442 476,-31.4652\"/>\r\n",
       "<polygon fill=\"black\" stroke=\"black\" points=\"479.5,-31.3408 476,-21.3408 472.5,-31.3409 479.5,-31.3408\"/>\r\n",
       "</g>\r\n",
       "<!-- 2219988260176 -->\r\n",
       "<g id=\"node3\" class=\"node\"><title>2219988260176</title>\r\n",
       "<polygon fill=\"lightgrey\" stroke=\"black\" points=\"398.5,-142 279.5,-142 279.5,-121 398.5,-121 398.5,-142\"/>\r\n",
       "<text text-anchor=\"middle\" x=\"339\" y=\"-128.4\" font-family=\"Times New Roman,serif\" font-size=\"12.00\">UnsqueezeBackward0</text>\r\n",
       "</g>\r\n",
       "<!-- 2219988260176&#45;&gt;2218948101848 -->\r\n",
       "<g id=\"edge2\" class=\"edge\"><title>2219988260176&#45;&gt;2218948101848</title>\r\n",
       "<path fill=\"none\" stroke=\"black\" d=\"M360.106,-120.948C382.868,-110.647 419.324,-94.149 445.267,-82.4085\"/>\r\n",
       "<polygon fill=\"black\" stroke=\"black\" points=\"446.977,-85.4764 454.644,-78.1646 444.091,-79.099 446.977,-85.4764\"/>\r\n",
       "</g>\r\n",
       "<!-- 2219988533320 -->\r\n",
       "<g id=\"node4\" class=\"node\"><title>2219988533320</title>\r\n",
       "<polygon fill=\"lightgrey\" stroke=\"black\" points=\"390,-213 288,-213 288,-192 390,-192 390,-213\"/>\r\n",
       "<text text-anchor=\"middle\" x=\"339\" y=\"-199.4\" font-family=\"Times New Roman,serif\" font-size=\"12.00\">DropoutBackward</text>\r\n",
       "</g>\r\n",
       "<!-- 2219988533320&#45;&gt;2219988260176 -->\r\n",
       "<g id=\"edge3\" class=\"edge\"><title>2219988533320&#45;&gt;2219988260176</title>\r\n",
       "<path fill=\"none\" stroke=\"black\" d=\"M339,-191.906C339,-181.71 339,-165.3 339,-152.308\"/>\r\n",
       "<polygon fill=\"black\" stroke=\"black\" points=\"342.5,-152.013 339,-142.013 335.5,-152.013 342.5,-152.013\"/>\r\n",
       "</g>\r\n",
       "<!-- 2219961972496 -->\r\n",
       "<g id=\"node5\" class=\"node\"><title>2219961972496</title>\r\n",
       "<polygon fill=\"lightgrey\" stroke=\"black\" points=\"379,-277 299,-277 299,-256 379,-256 379,-277\"/>\r\n",
       "<text text-anchor=\"middle\" x=\"339\" y=\"-263.4\" font-family=\"Times New Roman,serif\" font-size=\"12.00\">CatBackward</text>\r\n",
       "</g>\r\n",
       "<!-- 2219961972496&#45;&gt;2219988533320 -->\r\n",
       "<g id=\"edge4\" class=\"edge\"><title>2219961972496&#45;&gt;2219988533320</title>\r\n",
       "<path fill=\"none\" stroke=\"black\" d=\"M339,-255.813C339,-247.218 339,-234.388 339,-223.585\"/>\r\n",
       "<polygon fill=\"black\" stroke=\"black\" points=\"342.5,-223.324 339,-213.324 335.5,-223.324 342.5,-223.324\"/>\r\n",
       "</g>\r\n",
       "<!-- 2219988477544 -->\r\n",
       "<g id=\"node6\" class=\"node\"><title>2219988477544</title>\r\n",
       "<polygon fill=\"lightgrey\" stroke=\"black\" points=\"247,-334 139,-334 139,-313 247,-313 247,-334\"/>\r\n",
       "<text text-anchor=\"middle\" x=\"193\" y=\"-320.4\" font-family=\"Times New Roman,serif\" font-size=\"12.00\">SqueezeBackward1</text>\r\n",
       "</g>\r\n",
       "<!-- 2219988477544&#45;&gt;2219961972496 -->\r\n",
       "<g id=\"edge5\" class=\"edge\"><title>2219988477544&#45;&gt;2219961972496</title>\r\n",
       "<path fill=\"none\" stroke=\"black\" d=\"M218.431,-312.92C242.048,-304.023 277.43,-290.694 303.764,-280.774\"/>\r\n",
       "<polygon fill=\"black\" stroke=\"black\" points=\"305.246,-283.956 313.37,-277.155 302.778,-277.405 305.246,-283.956\"/>\r\n",
       "</g>\r\n",
       "<!-- 2219988478608 -->\r\n",
       "<g id=\"node7\" class=\"node\"><title>2219988478608</title>\r\n",
       "<polygon fill=\"lightgrey\" stroke=\"black\" points=\"233,-391 59,-391 59,-370 233,-370 233,-391\"/>\r\n",
       "<text text-anchor=\"middle\" x=\"146\" y=\"-377.4\" font-family=\"Times New Roman,serif\" font-size=\"12.00\">MaxPool2DWithIndicesBackward</text>\r\n",
       "</g>\r\n",
       "<!-- 2219988478608&#45;&gt;2219988477544 -->\r\n",
       "<g id=\"edge6\" class=\"edge\"><title>2219988478608&#45;&gt;2219988477544</title>\r\n",
       "<path fill=\"none\" stroke=\"black\" d=\"M154.187,-369.92C160.711,-362.285 170.024,-351.387 177.892,-342.179\"/>\r\n",
       "<polygon fill=\"black\" stroke=\"black\" points=\"180.755,-344.217 184.591,-334.341 175.433,-339.669 180.755,-344.217\"/>\r\n",
       "</g>\r\n",
       "<!-- 2219988478720 -->\r\n",
       "<g id=\"node8\" class=\"node\"><title>2219988478720</title>\r\n",
       "<polygon fill=\"lightgrey\" stroke=\"black\" points=\"191.5,-448 72.5,-448 72.5,-427 191.5,-427 191.5,-448\"/>\r\n",
       "<text text-anchor=\"middle\" x=\"132\" y=\"-434.4\" font-family=\"Times New Roman,serif\" font-size=\"12.00\">UnsqueezeBackward0</text>\r\n",
       "</g>\r\n",
       "<!-- 2219988478720&#45;&gt;2219988478608 -->\r\n",
       "<g id=\"edge7\" class=\"edge\"><title>2219988478720&#45;&gt;2219988478608</title>\r\n",
       "<path fill=\"none\" stroke=\"black\" d=\"M134.439,-426.92C136.243,-419.83 138.764,-409.927 140.991,-401.176\"/>\r\n",
       "<polygon fill=\"black\" stroke=\"black\" points=\"144.42,-401.895 143.495,-391.341 137.636,-400.168 144.42,-401.895\"/>\r\n",
       "</g>\r\n",
       "<!-- 2219988478832 -->\r\n",
       "<g id=\"node9\" class=\"node\"><title>2219988478832</title>\r\n",
       "<polygon fill=\"lightgrey\" stroke=\"black\" points=\"179,-505 71,-505 71,-484 179,-484 179,-505\"/>\r\n",
       "<text text-anchor=\"middle\" x=\"125\" y=\"-491.4\" font-family=\"Times New Roman,serif\" font-size=\"12.00\">SqueezeBackward1</text>\r\n",
       "</g>\r\n",
       "<!-- 2219988478832&#45;&gt;2219988478720 -->\r\n",
       "<g id=\"edge8\" class=\"edge\"><title>2219988478832&#45;&gt;2219988478720</title>\r\n",
       "<path fill=\"none\" stroke=\"black\" d=\"M126.219,-483.92C127.112,-476.908 128.354,-467.144 129.459,-458.465\"/>\r\n",
       "<polygon fill=\"black\" stroke=\"black\" points=\"132.957,-458.703 130.748,-448.341 126.013,-457.819 132.957,-458.703\"/>\r\n",
       "</g>\r\n",
       "<!-- 2219988478944 -->\r\n",
       "<g id=\"node10\" class=\"node\"><title>2219988478944</title>\r\n",
       "<polygon fill=\"lightgrey\" stroke=\"black\" points=\"164,-562 80,-562 80,-541 164,-541 164,-562\"/>\r\n",
       "<text text-anchor=\"middle\" x=\"122\" y=\"-548.4\" font-family=\"Times New Roman,serif\" font-size=\"12.00\">ReluBackward</text>\r\n",
       "</g>\r\n",
       "<!-- 2219988478944&#45;&gt;2219988478832 -->\r\n",
       "<g id=\"edge9\" class=\"edge\"><title>2219988478944&#45;&gt;2219988478832</title>\r\n",
       "<path fill=\"none\" stroke=\"black\" d=\"M122.523,-540.92C122.905,-533.908 123.438,-524.144 123.911,-515.465\"/>\r\n",
       "<polygon fill=\"black\" stroke=\"black\" points=\"127.413,-515.517 124.463,-505.341 120.424,-515.135 127.413,-515.517\"/>\r\n",
       "</g>\r\n",
       "<!-- 2219988479056 -->\r\n",
       "<g id=\"node11\" class=\"node\"><title>2219988479056</title>\r\n",
       "<polygon fill=\"lightgrey\" stroke=\"black\" points=\"194.5,-619 45.5,-619 45.5,-598 194.5,-598 194.5,-619\"/>\r\n",
       "<text text-anchor=\"middle\" x=\"120\" y=\"-605.4\" font-family=\"Times New Roman,serif\" font-size=\"12.00\">CudnnConvolutionBackward</text>\r\n",
       "</g>\r\n",
       "<!-- 2219988479056&#45;&gt;2219988478944 -->\r\n",
       "<g id=\"edge10\" class=\"edge\"><title>2219988479056&#45;&gt;2219988478944</title>\r\n",
       "<path fill=\"none\" stroke=\"black\" d=\"M120.348,-597.92C120.603,-590.908 120.958,-581.144 121.274,-572.465\"/>\r\n",
       "<polygon fill=\"black\" stroke=\"black\" points=\"124.776,-572.461 121.642,-562.341 117.781,-572.207 124.776,-572.461\"/>\r\n",
       "</g>\r\n",
       "<!-- 2219988479224 -->\r\n",
       "<g id=\"node12\" class=\"node\"><title>2219988479224</title>\r\n",
       "<polygon fill=\"lightgrey\" stroke=\"black\" points=\"302.5,-683 183.5,-683 183.5,-662 302.5,-662 302.5,-683\"/>\r\n",
       "<text text-anchor=\"middle\" x=\"243\" y=\"-669.4\" font-family=\"Times New Roman,serif\" font-size=\"12.00\">UnsqueezeBackward0</text>\r\n",
       "</g>\r\n",
       "<!-- 2219988479224&#45;&gt;2219988479056 -->\r\n",
       "<g id=\"edge11\" class=\"edge\"><title>2219988479224&#45;&gt;2219988479056</title>\r\n",
       "<path fill=\"none\" stroke=\"black\" d=\"M224.051,-661.948C203.795,-651.738 171.46,-635.439 148.21,-623.72\"/>\r\n",
       "<polygon fill=\"black\" stroke=\"black\" points=\"149.679,-620.54 139.173,-619.165 146.528,-626.791 149.679,-620.54\"/>\r\n",
       "</g>\r\n",
       "<!-- 2219988479504 -->\r\n",
       "<g id=\"node22\" class=\"node\"><title>2219988479504</title>\r\n",
       "<polygon fill=\"lightgrey\" stroke=\"black\" points=\"436.5,-619 287.5,-619 287.5,-598 436.5,-598 436.5,-619\"/>\r\n",
       "<text text-anchor=\"middle\" x=\"362\" y=\"-605.4\" font-family=\"Times New Roman,serif\" font-size=\"12.00\">CudnnConvolutionBackward</text>\r\n",
       "</g>\r\n",
       "<!-- 2219988479224&#45;&gt;2219988479504 -->\r\n",
       "<g id=\"edge22\" class=\"edge\"><title>2219988479224&#45;&gt;2219988479504</title>\r\n",
       "<path fill=\"none\" stroke=\"black\" d=\"M261.333,-661.948C280.843,-651.784 311.936,-635.584 334.406,-623.876\"/>\r\n",
       "<polygon fill=\"black\" stroke=\"black\" points=\"336.199,-626.889 343.45,-619.165 332.964,-620.681 336.199,-626.889\"/>\r\n",
       "</g>\r\n",
       "<!-- 2219988443376 -->\r\n",
       "<g id=\"node30\" class=\"node\"><title>2219988443376</title>\r\n",
       "<polygon fill=\"lightgrey\" stroke=\"black\" points=\"605.5,-619 456.5,-619 456.5,-598 605.5,-598 605.5,-619\"/>\r\n",
       "<text text-anchor=\"middle\" x=\"531\" y=\"-605.4\" font-family=\"Times New Roman,serif\" font-size=\"12.00\">CudnnConvolutionBackward</text>\r\n",
       "</g>\r\n",
       "<!-- 2219988479224&#45;&gt;2219988443376 -->\r\n",
       "<g id=\"edge31\" class=\"edge\"><title>2219988479224&#45;&gt;2219988443376</title>\r\n",
       "<path fill=\"none\" stroke=\"black\" d=\"M281.426,-661.934C291.066,-659.601 301.399,-657.157 311,-655 365.545,-642.746 427.978,-629.95 472.367,-621.061\"/>\r\n",
       "<polygon fill=\"black\" stroke=\"black\" points=\"473.279,-624.448 482.399,-619.057 471.907,-617.584 473.279,-624.448\"/>\r\n",
       "</g>\r\n",
       "<!-- 2219988479448 -->\r\n",
       "<g id=\"node13\" class=\"node\"><title>2219988479448</title>\r\n",
       "<polygon fill=\"lightgrey\" stroke=\"black\" points=\"300.5,-747 185.5,-747 185.5,-726 300.5,-726 300.5,-747\"/>\r\n",
       "<text text-anchor=\"middle\" x=\"243\" y=\"-733.4\" font-family=\"Times New Roman,serif\" font-size=\"12.00\">EmbeddingBackward</text>\r\n",
       "</g>\r\n",
       "<!-- 2219988479448&#45;&gt;2219988479224 -->\r\n",
       "<g id=\"edge12\" class=\"edge\"><title>2219988479448&#45;&gt;2219988479224</title>\r\n",
       "<path fill=\"none\" stroke=\"black\" d=\"M243,-725.813C243,-717.218 243,-704.388 243,-693.585\"/>\r\n",
       "<polygon fill=\"black\" stroke=\"black\" points=\"246.5,-693.324 243,-683.324 239.5,-693.324 246.5,-693.324\"/>\r\n",
       "</g>\r\n",
       "<!-- 2219988479616 -->\r\n",
       "<g id=\"node14\" class=\"node\"><title>2219988479616</title>\r\n",
       "<polygon fill=\"lightblue\" stroke=\"black\" points=\"286.5,-818 199.5,-818 199.5,-783 286.5,-783 286.5,-818\"/>\r\n",
       "<text text-anchor=\"middle\" x=\"243\" y=\"-790.4\" font-family=\"Times New Roman,serif\" font-size=\"12.00\"> (259922, 300)</text>\r\n",
       "</g>\r\n",
       "<!-- 2219988479616&#45;&gt;2219988479448 -->\r\n",
       "<g id=\"edge13\" class=\"edge\"><title>2219988479616&#45;&gt;2219988479448</title>\r\n",
       "<path fill=\"none\" stroke=\"black\" d=\"M243,-782.885C243,-774.994 243,-765.505 243,-757.248\"/>\r\n",
       "<polygon fill=\"black\" stroke=\"black\" points=\"246.5,-757.018 243,-747.018 239.5,-757.018 246.5,-757.018\"/>\r\n",
       "</g>\r\n",
       "<!-- 2219988479280 -->\r\n",
       "<g id=\"node15\" class=\"node\"><title>2219988479280</title>\r\n",
       "<polygon fill=\"lightblue\" stroke=\"black\" points=\"165.5,-690 72.5,-690 72.5,-655 165.5,-655 165.5,-690\"/>\r\n",
       "<text text-anchor=\"middle\" x=\"119\" y=\"-662.4\" font-family=\"Times New Roman,serif\" font-size=\"12.00\"> (100, 1, 3, 300)</text>\r\n",
       "</g>\r\n",
       "<!-- 2219988479280&#45;&gt;2219988479056 -->\r\n",
       "<g id=\"edge14\" class=\"edge\"><title>2219988479280&#45;&gt;2219988479056</title>\r\n",
       "<path fill=\"none\" stroke=\"black\" d=\"M119.268,-654.885C119.395,-646.994 119.548,-637.505 119.681,-629.248\"/>\r\n",
       "<polygon fill=\"black\" stroke=\"black\" points=\"123.185,-629.073 119.846,-619.018 116.186,-628.96 123.185,-629.073\"/>\r\n",
       "</g>\r\n",
       "<!-- 2219988479336 -->\r\n",
       "<g id=\"node16\" class=\"node\"><title>2219988479336</title>\r\n",
       "<polygon fill=\"lightblue\" stroke=\"black\" points=\"54,-690 0,-690 0,-655 54,-655 54,-690\"/>\r\n",
       "<text text-anchor=\"middle\" x=\"27\" y=\"-662.4\" font-family=\"Times New Roman,serif\" font-size=\"12.00\"> (100)</text>\r\n",
       "</g>\r\n",
       "<!-- 2219988479336&#45;&gt;2219988479056 -->\r\n",
       "<g id=\"edge15\" class=\"edge\"><title>2219988479336&#45;&gt;2219988479056</title>\r\n",
       "<path fill=\"none\" stroke=\"black\" d=\"M51.9223,-654.885C66.0459,-645.469 83.5819,-633.779 97.3189,-624.621\"/>\r\n",
       "<polygon fill=\"black\" stroke=\"black\" points=\"99.3443,-627.477 105.723,-619.018 95.4614,-621.653 99.3443,-627.477\"/>\r\n",
       "</g>\r\n",
       "<!-- 2219988477600 -->\r\n",
       "<g id=\"node17\" class=\"node\"><title>2219988477600</title>\r\n",
       "<polygon fill=\"lightgrey\" stroke=\"black\" points=\"393,-334 285,-334 285,-313 393,-313 393,-334\"/>\r\n",
       "<text text-anchor=\"middle\" x=\"339\" y=\"-320.4\" font-family=\"Times New Roman,serif\" font-size=\"12.00\">SqueezeBackward1</text>\r\n",
       "</g>\r\n",
       "<!-- 2219988477600&#45;&gt;2219961972496 -->\r\n",
       "<g id=\"edge16\" class=\"edge\"><title>2219988477600&#45;&gt;2219961972496</title>\r\n",
       "<path fill=\"none\" stroke=\"black\" d=\"M339,-312.92C339,-305.908 339,-296.144 339,-287.465\"/>\r\n",
       "<polygon fill=\"black\" stroke=\"black\" points=\"342.5,-287.341 339,-277.341 335.5,-287.341 342.5,-287.341\"/>\r\n",
       "</g>\r\n",
       "<!-- 2219988478664 -->\r\n",
       "<g id=\"node18\" class=\"node\"><title>2219988478664</title>\r\n",
       "<polygon fill=\"lightgrey\" stroke=\"black\" points=\"426,-391 252,-391 252,-370 426,-370 426,-391\"/>\r\n",
       "<text text-anchor=\"middle\" x=\"339\" y=\"-377.4\" font-family=\"Times New Roman,serif\" font-size=\"12.00\">MaxPool2DWithIndicesBackward</text>\r\n",
       "</g>\r\n",
       "<!-- 2219988478664&#45;&gt;2219988477600 -->\r\n",
       "<g id=\"edge17\" class=\"edge\"><title>2219988478664&#45;&gt;2219988477600</title>\r\n",
       "<path fill=\"none\" stroke=\"black\" d=\"M339,-369.92C339,-362.908 339,-353.144 339,-344.465\"/>\r\n",
       "<polygon fill=\"black\" stroke=\"black\" points=\"342.5,-344.341 339,-334.341 335.5,-344.341 342.5,-344.341\"/>\r\n",
       "</g>\r\n",
       "<!-- 2219988478888 -->\r\n",
       "<g id=\"node19\" class=\"node\"><title>2219988478888</title>\r\n",
       "<polygon fill=\"lightgrey\" stroke=\"black\" points=\"400.5,-448 281.5,-448 281.5,-427 400.5,-427 400.5,-448\"/>\r\n",
       "<text text-anchor=\"middle\" x=\"341\" y=\"-434.4\" font-family=\"Times New Roman,serif\" font-size=\"12.00\">UnsqueezeBackward0</text>\r\n",
       "</g>\r\n",
       "<!-- 2219988478888&#45;&gt;2219988478664 -->\r\n",
       "<g id=\"edge18\" class=\"edge\"><title>2219988478888&#45;&gt;2219988478664</title>\r\n",
       "<path fill=\"none\" stroke=\"black\" d=\"M340.652,-426.92C340.397,-419.908 340.042,-410.144 339.726,-401.465\"/>\r\n",
       "<polygon fill=\"black\" stroke=\"black\" points=\"343.219,-401.207 339.358,-391.341 336.224,-401.461 343.219,-401.207\"/>\r\n",
       "</g>\r\n",
       "<!-- 2219988479112 -->\r\n",
       "<g id=\"node20\" class=\"node\"><title>2219988479112</title>\r\n",
       "<polygon fill=\"lightgrey\" stroke=\"black\" points=\"401,-505 293,-505 293,-484 401,-484 401,-505\"/>\r\n",
       "<text text-anchor=\"middle\" x=\"347\" y=\"-491.4\" font-family=\"Times New Roman,serif\" font-size=\"12.00\">SqueezeBackward1</text>\r\n",
       "</g>\r\n",
       "<!-- 2219988479112&#45;&gt;2219988478888 -->\r\n",
       "<g id=\"edge19\" class=\"edge\"><title>2219988479112&#45;&gt;2219988478888</title>\r\n",
       "<path fill=\"none\" stroke=\"black\" d=\"M345.955,-483.92C345.19,-476.908 344.125,-467.144 343.178,-458.465\"/>\r\n",
       "<polygon fill=\"black\" stroke=\"black\" points=\"346.637,-457.902 342.074,-448.341 339.679,-458.661 346.637,-457.902\"/>\r\n",
       "</g>\r\n",
       "<!-- 2219988479840 -->\r\n",
       "<g id=\"node21\" class=\"node\"><title>2219988479840</title>\r\n",
       "<polygon fill=\"lightgrey\" stroke=\"black\" points=\"392,-562 308,-562 308,-541 392,-541 392,-562\"/>\r\n",
       "<text text-anchor=\"middle\" x=\"350\" y=\"-548.4\" font-family=\"Times New Roman,serif\" font-size=\"12.00\">ReluBackward</text>\r\n",
       "</g>\r\n",
       "<!-- 2219988479840&#45;&gt;2219988479112 -->\r\n",
       "<g id=\"edge20\" class=\"edge\"><title>2219988479840&#45;&gt;2219988479112</title>\r\n",
       "<path fill=\"none\" stroke=\"black\" d=\"M349.477,-540.92C349.095,-533.908 348.562,-524.144 348.089,-515.465\"/>\r\n",
       "<polygon fill=\"black\" stroke=\"black\" points=\"351.576,-515.135 347.537,-505.341 344.587,-515.517 351.576,-515.135\"/>\r\n",
       "</g>\r\n",
       "<!-- 2219988479504&#45;&gt;2219988479840 -->\r\n",
       "<g id=\"edge21\" class=\"edge\"><title>2219988479504&#45;&gt;2219988479840</title>\r\n",
       "<path fill=\"none\" stroke=\"black\" d=\"M359.91,-597.92C358.363,-590.83 356.202,-580.927 354.293,-572.176\"/>\r\n",
       "<polygon fill=\"black\" stroke=\"black\" points=\"357.698,-571.365 352.147,-562.341 350.859,-572.857 357.698,-571.365\"/>\r\n",
       "</g>\r\n",
       "<!-- 2219988479784 -->\r\n",
       "<g id=\"node23\" class=\"node\"><title>2219988479784</title>\r\n",
       "<polygon fill=\"lightblue\" stroke=\"black\" points=\"413.5,-690 320.5,-690 320.5,-655 413.5,-655 413.5,-690\"/>\r\n",
       "<text text-anchor=\"middle\" x=\"367\" y=\"-662.4\" font-family=\"Times New Roman,serif\" font-size=\"12.00\"> (100, 1, 4, 300)</text>\r\n",
       "</g>\r\n",
       "<!-- 2219988479784&#45;&gt;2219988479504 -->\r\n",
       "<g id=\"edge23\" class=\"edge\"><title>2219988479784&#45;&gt;2219988479504</title>\r\n",
       "<path fill=\"none\" stroke=\"black\" d=\"M365.66,-654.885C365.024,-646.994 364.258,-637.505 363.593,-629.248\"/>\r\n",
       "<polygon fill=\"black\" stroke=\"black\" points=\"367.06,-628.704 362.768,-619.018 360.083,-629.267 367.06,-628.704\"/>\r\n",
       "</g>\r\n",
       "<!-- 2219988479952 -->\r\n",
       "<g id=\"node24\" class=\"node\"><title>2219988479952</title>\r\n",
       "<polygon fill=\"lightblue\" stroke=\"black\" points=\"486,-690 432,-690 432,-655 486,-655 486,-690\"/>\r\n",
       "<text text-anchor=\"middle\" x=\"459\" y=\"-662.4\" font-family=\"Times New Roman,serif\" font-size=\"12.00\"> (100)</text>\r\n",
       "</g>\r\n",
       "<!-- 2219988479952&#45;&gt;2219988479504 -->\r\n",
       "<g id=\"edge24\" class=\"edge\"><title>2219988479952&#45;&gt;2219988479504</title>\r\n",
       "<path fill=\"none\" stroke=\"black\" d=\"M433.006,-654.885C418.275,-645.469 399.984,-633.779 385.657,-624.621\"/>\r\n",
       "<polygon fill=\"black\" stroke=\"black\" points=\"387.202,-621.454 376.891,-619.018 383.432,-627.352 387.202,-621.454\"/>\r\n",
       "</g>\r\n",
       "<!-- 2219988478496 -->\r\n",
       "<g id=\"node25\" class=\"node\"><title>2219988478496</title>\r\n",
       "<polygon fill=\"lightgrey\" stroke=\"black\" points=\"552,-334 444,-334 444,-313 552,-313 552,-334\"/>\r\n",
       "<text text-anchor=\"middle\" x=\"498\" y=\"-320.4\" font-family=\"Times New Roman,serif\" font-size=\"12.00\">SqueezeBackward1</text>\r\n",
       "</g>\r\n",
       "<!-- 2219988478496&#45;&gt;2219961972496 -->\r\n",
       "<g id=\"edge25\" class=\"edge\"><title>2219988478496&#45;&gt;2219961972496</title>\r\n",
       "<path fill=\"none\" stroke=\"black\" d=\"M470.304,-312.92C444.278,-303.917 405.133,-290.376 376.353,-280.421\"/>\r\n",
       "<polygon fill=\"black\" stroke=\"black\" points=\"377.239,-277.024 366.645,-277.063 374.951,-283.639 377.239,-277.024\"/>\r\n",
       "</g>\r\n",
       "<!-- 2219988478776 -->\r\n",
       "<g id=\"node26\" class=\"node\"><title>2219988478776</title>\r\n",
       "<polygon fill=\"lightgrey\" stroke=\"black\" points=\"618,-391 444,-391 444,-370 618,-370 618,-391\"/>\r\n",
       "<text text-anchor=\"middle\" x=\"531\" y=\"-377.4\" font-family=\"Times New Roman,serif\" font-size=\"12.00\">MaxPool2DWithIndicesBackward</text>\r\n",
       "</g>\r\n",
       "<!-- 2219988478776&#45;&gt;2219988478496 -->\r\n",
       "<g id=\"edge26\" class=\"edge\"><title>2219988478776&#45;&gt;2219988478496</title>\r\n",
       "<path fill=\"none\" stroke=\"black\" d=\"M525.252,-369.92C520.811,-362.519 514.531,-352.051 509.118,-343.029\"/>\r\n",
       "<polygon fill=\"black\" stroke=\"black\" points=\"512.051,-341.115 503.904,-334.341 506.048,-344.717 512.051,-341.115\"/>\r\n",
       "</g>\r\n",
       "<!-- 2219988479392 -->\r\n",
       "<g id=\"node27\" class=\"node\"><title>2219988479392</title>\r\n",
       "<polygon fill=\"lightgrey\" stroke=\"black\" points=\"590.5,-448 471.5,-448 471.5,-427 590.5,-427 590.5,-448\"/>\r\n",
       "<text text-anchor=\"middle\" x=\"531\" y=\"-434.4\" font-family=\"Times New Roman,serif\" font-size=\"12.00\">UnsqueezeBackward0</text>\r\n",
       "</g>\r\n",
       "<!-- 2219988479392&#45;&gt;2219988478776 -->\r\n",
       "<g id=\"edge27\" class=\"edge\"><title>2219988479392&#45;&gt;2219988478776</title>\r\n",
       "<path fill=\"none\" stroke=\"black\" d=\"M531,-426.92C531,-419.908 531,-410.144 531,-401.465\"/>\r\n",
       "<polygon fill=\"black\" stroke=\"black\" points=\"534.5,-401.341 531,-391.341 527.5,-401.341 534.5,-401.341\"/>\r\n",
       "</g>\r\n",
       "<!-- 2219988479896 -->\r\n",
       "<g id=\"node28\" class=\"node\"><title>2219988479896</title>\r\n",
       "<polygon fill=\"lightgrey\" stroke=\"black\" points=\"585,-505 477,-505 477,-484 585,-484 585,-505\"/>\r\n",
       "<text text-anchor=\"middle\" x=\"531\" y=\"-491.4\" font-family=\"Times New Roman,serif\" font-size=\"12.00\">SqueezeBackward1</text>\r\n",
       "</g>\r\n",
       "<!-- 2219988479896&#45;&gt;2219988479392 -->\r\n",
       "<g id=\"edge28\" class=\"edge\"><title>2219988479896&#45;&gt;2219988479392</title>\r\n",
       "<path fill=\"none\" stroke=\"black\" d=\"M531,-483.92C531,-476.908 531,-467.144 531,-458.465\"/>\r\n",
       "<polygon fill=\"black\" stroke=\"black\" points=\"534.5,-458.341 531,-448.341 527.5,-458.341 534.5,-458.341\"/>\r\n",
       "</g>\r\n",
       "<!-- 2219988443264 -->\r\n",
       "<g id=\"node29\" class=\"node\"><title>2219988443264</title>\r\n",
       "<polygon fill=\"lightgrey\" stroke=\"black\" points=\"573,-562 489,-562 489,-541 573,-541 573,-562\"/>\r\n",
       "<text text-anchor=\"middle\" x=\"531\" y=\"-548.4\" font-family=\"Times New Roman,serif\" font-size=\"12.00\">ReluBackward</text>\r\n",
       "</g>\r\n",
       "<!-- 2219988443264&#45;&gt;2219988479896 -->\r\n",
       "<g id=\"edge29\" class=\"edge\"><title>2219988443264&#45;&gt;2219988479896</title>\r\n",
       "<path fill=\"none\" stroke=\"black\" d=\"M531,-540.92C531,-533.908 531,-524.144 531,-515.465\"/>\r\n",
       "<polygon fill=\"black\" stroke=\"black\" points=\"534.5,-515.341 531,-505.341 527.5,-515.341 534.5,-515.341\"/>\r\n",
       "</g>\r\n",
       "<!-- 2219988443376&#45;&gt;2219988443264 -->\r\n",
       "<g id=\"edge30\" class=\"edge\"><title>2219988443376&#45;&gt;2219988443264</title>\r\n",
       "<path fill=\"none\" stroke=\"black\" d=\"M531,-597.92C531,-590.908 531,-581.144 531,-572.465\"/>\r\n",
       "<polygon fill=\"black\" stroke=\"black\" points=\"534.5,-572.341 531,-562.341 527.5,-572.341 534.5,-572.341\"/>\r\n",
       "</g>\r\n",
       "<!-- 2219988443488 -->\r\n",
       "<g id=\"node31\" class=\"node\"><title>2219988443488</title>\r\n",
       "<polygon fill=\"lightblue\" stroke=\"black\" points=\"669.5,-690 576.5,-690 576.5,-655 669.5,-655 669.5,-690\"/>\r\n",
       "<text text-anchor=\"middle\" x=\"623\" y=\"-662.4\" font-family=\"Times New Roman,serif\" font-size=\"12.00\"> (100, 1, 5, 300)</text>\r\n",
       "</g>\r\n",
       "<!-- 2219988443488&#45;&gt;2219988443376 -->\r\n",
       "<g id=\"edge32\" class=\"edge\"><title>2219988443488&#45;&gt;2219988443376</title>\r\n",
       "<path fill=\"none\" stroke=\"black\" d=\"M598.346,-654.885C584.374,-645.469 567.026,-633.779 553.437,-624.621\"/>\r\n",
       "<polygon fill=\"black\" stroke=\"black\" points=\"555.372,-621.704 545.123,-619.018 551.46,-627.509 555.372,-621.704\"/>\r\n",
       "</g>\r\n",
       "<!-- 2219988443544 -->\r\n",
       "<g id=\"node32\" class=\"node\"><title>2219988443544</title>\r\n",
       "<polygon fill=\"lightblue\" stroke=\"black\" points=\"558,-690 504,-690 504,-655 558,-655 558,-690\"/>\r\n",
       "<text text-anchor=\"middle\" x=\"531\" y=\"-662.4\" font-family=\"Times New Roman,serif\" font-size=\"12.00\"> (100)</text>\r\n",
       "</g>\r\n",
       "<!-- 2219988443544&#45;&gt;2219988443376 -->\r\n",
       "<g id=\"edge33\" class=\"edge\"><title>2219988443544&#45;&gt;2219988443376</title>\r\n",
       "<path fill=\"none\" stroke=\"black\" d=\"M531,-654.885C531,-646.994 531,-637.505 531,-629.248\"/>\r\n",
       "<polygon fill=\"black\" stroke=\"black\" points=\"534.5,-629.018 531,-619.018 527.5,-629.018 534.5,-629.018\"/>\r\n",
       "</g>\r\n",
       "<!-- 2219988349560 -->\r\n",
       "<g id=\"node33\" class=\"node\"><title>2219988349560</title>\r\n",
       "<polygon fill=\"lightgrey\" stroke=\"black\" points=\"535.5,-142 416.5,-142 416.5,-121 535.5,-121 535.5,-142\"/>\r\n",
       "<text text-anchor=\"middle\" x=\"476\" y=\"-128.4\" font-family=\"Times New Roman,serif\" font-size=\"12.00\">UnsqueezeBackward0</text>\r\n",
       "</g>\r\n",
       "<!-- 2219988349560&#45;&gt;2218948101848 -->\r\n",
       "<g id=\"edge34\" class=\"edge\"><title>2219988349560&#45;&gt;2218948101848</title>\r\n",
       "<path fill=\"none\" stroke=\"black\" d=\"M476,-120.813C476,-112.218 476,-99.3883 476,-88.5855\"/>\r\n",
       "<polygon fill=\"black\" stroke=\"black\" points=\"479.5,-88.3241 476,-78.3241 472.5,-88.3241 479.5,-88.3241\"/>\r\n",
       "</g>\r\n",
       "<!-- 2219961867736 -->\r\n",
       "<g id=\"node34\" class=\"node\"><title>2219961867736</title>\r\n",
       "<polygon fill=\"lightblue\" stroke=\"black\" points=\"510.5,-220 441.5,-220 441.5,-185 510.5,-185 510.5,-220\"/>\r\n",
       "<text text-anchor=\"middle\" x=\"476\" y=\"-192.4\" font-family=\"Times New Roman,serif\" font-size=\"12.00\"> (2, 300, 1)</text>\r\n",
       "</g>\r\n",
       "<!-- 2219961867736&#45;&gt;2219988349560 -->\r\n",
       "<g id=\"edge35\" class=\"edge\"><title>2219961867736&#45;&gt;2219988349560</title>\r\n",
       "<path fill=\"none\" stroke=\"black\" d=\"M476,-184.797C476,-174.956 476,-162.453 476,-152.141\"/>\r\n",
       "<polygon fill=\"black\" stroke=\"black\" points=\"479.5,-152.04 476,-142.04 472.5,-152.04 479.5,-152.04\"/>\r\n",
       "</g>\r\n",
       "<!-- 2219988350176 -->\r\n",
       "<g id=\"node35\" class=\"node\"><title>2219988350176</title>\r\n",
       "<polygon fill=\"lightblue\" stroke=\"black\" points=\"608,-149 554,-149 554,-114 608,-114 608,-149\"/>\r\n",
       "<text text-anchor=\"middle\" x=\"581\" y=\"-121.4\" font-family=\"Times New Roman,serif\" font-size=\"12.00\"> (2)</text>\r\n",
       "</g>\r\n",
       "<!-- 2219988350176&#45;&gt;2218948101848 -->\r\n",
       "<g id=\"edge36\" class=\"edge\"><title>2219988350176&#45;&gt;2218948101848</title>\r\n",
       "<path fill=\"none\" stroke=\"black\" d=\"M553.96,-114.533C537.604,-104.876 516.899,-92.6496 500.937,-83.2248\"/>\r\n",
       "<polygon fill=\"black\" stroke=\"black\" points=\"502.547,-80.1107 492.156,-78.04 498.988,-86.1384 502.547,-80.1107\"/>\r\n",
       "</g>\r\n",
       "</g>\r\n",
       "</svg>\r\n"
      ],
      "text/plain": [
       "<graphviz.dot.Digraph at 0x204a39d0fd0>"
      ]
     },
     "execution_count": 26,
     "metadata": {},
     "output_type": "execute_result"
    }
   ],
   "source": [
    "make_dot(model(doc_idxs))"
   ]
  },
  {
   "cell_type": "code",
   "execution_count": 37,
   "metadata": {},
   "outputs": [
    {
     "data": {
      "text/plain": [
       "'network graph.png'"
      ]
     },
     "execution_count": 37,
     "metadata": {},
     "output_type": "execute_result"
    }
   ],
   "source": [
    "#res.render(\"network graph\",format='png')"
   ]
  },
  {
   "cell_type": "code",
   "execution_count": 38,
   "metadata": {},
   "outputs": [],
   "source": [
    "def confuse_matrix(feature_list, target_list):\n",
    "    mat = torch.zeros(2,2,dtype=torch.int64)\n",
    "    for feature, target in zip(feature_list, target_list):\n",
    "        out = model(feature)[:,:,0]\n",
    "        if target[0].item() == 0:\n",
    "            if out[0,0].item() > out[0,1].item():\n",
    "                mat[0,0] += 1\n",
    "            else:\n",
    "                mat[0,1] += 1\n",
    "        else:\n",
    "            if out[0,0].item() > out[0,1].item():\n",
    "                mat[1,0] += 1\n",
    "            else:\n",
    "                mat[1,1] += 1\n",
    "    return mat\n"
   ]
  },
  {
   "cell_type": "code",
   "execution_count": 39,
   "metadata": {},
   "outputs": [
    {
     "data": {
      "text/plain": [
       "tensor([[4779,   22],\n",
       "        [ 141, 1201]])"
      ]
     },
     "execution_count": 39,
     "metadata": {},
     "output_type": "execute_result"
    }
   ],
   "source": [
    "confuse_matrix(feature_list, target_list)"
   ]
  },
  {
   "cell_type": "code",
   "execution_count": 40,
   "metadata": {},
   "outputs": [
    {
     "data": {
      "text/plain": [
       "tensor([[231,  11],\n",
       "        [ 46,  18]])"
      ]
     },
     "execution_count": 40,
     "metadata": {},
     "output_type": "execute_result"
    }
   ],
   "source": [
    "confuse_matrix(feature_list_test, target_list_test)"
   ]
  },
  {
   "cell_type": "code",
   "execution_count": null,
   "metadata": {},
   "outputs": [],
   "source": []
  }
 ],
 "metadata": {
  "kernelspec": {
   "display_name": "Python 3",
   "language": "python",
   "name": "python3"
  },
  "language_info": {
   "codemirror_mode": {
    "name": "ipython",
    "version": 3
   },
   "file_extension": ".py",
   "mimetype": "text/x-python",
   "name": "python",
   "nbconvert_exporter": "python",
   "pygments_lexer": "ipython3",
   "version": "3.6.5"
  }
 },
 "nbformat": 4,
 "nbformat_minor": 2
}
