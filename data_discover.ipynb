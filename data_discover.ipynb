{
 "cells": [
  {
   "cell_type": "code",
   "execution_count": 1,
   "metadata": {},
   "outputs": [],
   "source": [
    "import json\n",
    "import os\n",
    "import numpy as np\n",
    "import matplotlib.pyplot as plt\n",
    "%matplotlib inline"
   ]
  },
  {
   "cell_type": "code",
   "execution_count": 2,
   "metadata": {},
   "outputs": [],
   "source": [
    "record_list = []\n",
    "name_list = []\n",
    "for root, folders, fnames in os.walk(r'E:\\agent\\Plagiarism_detection\\stat'):\n",
    "    for fname in fnames:\n",
    "        path = os.path.join(root, fname)\n",
    "        with open(path, encoding='utf8') as f:\n",
    "            record = json.load(f)\n",
    "            name_list.append(path)\n",
    "        record_list.append(record)"
   ]
  },
  {
   "cell_type": "code",
   "execution_count": 3,
   "metadata": {},
   "outputs": [
    {
     "data": {
      "text/plain": [
       "dict_keys(['text', 'result', 'count', 'check_text_size'])"
      ]
     },
     "execution_count": 3,
     "metadata": {},
     "output_type": "execute_result"
    }
   ],
   "source": [
    "person = record_list[0]\n",
    "section = person[0]\n",
    "section.keys()"
   ]
  },
  {
   "cell_type": "code",
   "execution_count": 4,
   "metadata": {},
   "outputs": [
    {
     "data": {
      "text/plain": [
       "'至关重要的，因此，PSOLA技术比LPC技术具有可'"
      ]
     },
     "execution_count": 4,
     "metadata": {},
     "output_type": "execute_result"
    }
   ],
   "source": [
    "section['text']"
   ]
  },
  {
   "cell_type": "code",
   "execution_count": 5,
   "metadata": {},
   "outputs": [
    {
     "data": {
      "text/plain": [
       "' .catebox{line-height:34px;border-bottom:1px dotted #eee;color:#ccc;font-size:12px;margin:0 0 15px 0'"
      ]
     },
     "execution_count": 5,
     "metadata": {},
     "output_type": "execute_result"
    }
   ],
   "source": [
    "section['result'][:100]"
   ]
  },
  {
   "cell_type": "code",
   "execution_count": 6,
   "metadata": {},
   "outputs": [
    {
     "data": {
      "text/plain": [
       "2"
      ]
     },
     "execution_count": 6,
     "metadata": {},
     "output_type": "execute_result"
    }
   ],
   "source": [
    "section['count']"
   ]
  },
  {
   "cell_type": "code",
   "execution_count": 7,
   "metadata": {},
   "outputs": [
    {
     "data": {
      "text/plain": [
       "25"
      ]
     },
     "execution_count": 7,
     "metadata": {},
     "output_type": "execute_result"
    }
   ],
   "source": [
    "section['check_text_size']"
   ]
  },
  {
   "cell_type": "code",
   "execution_count": 8,
   "metadata": {},
   "outputs": [],
   "source": [
    "count_list = [len([True for s in p if s['count'] > 0]) for p in record_list]"
   ]
  },
  {
   "cell_type": "code",
   "execution_count": 9,
   "metadata": {},
   "outputs": [
    {
     "data": {
      "text/plain": [
       "(array([31., 35., 21., 26., 15., 12.,  5.,  6.,  2.,  4.]),\n",
       " array([ 0.,  3.,  6.,  9., 12., 15., 18., 21., 24., 27., 30.]),\n",
       " <a list of 10 Patch objects>)"
      ]
     },
     "execution_count": 9,
     "metadata": {},
     "output_type": "execute_result"
    },
    {
     "data": {
      "image/png": "[encoded data removed]",
      "text/plain": [
       "<Figure size 432x288 with 1 Axes>"
      ]
     },
     "metadata": {},
     "output_type": "display_data"
    }
   ],
   "source": [
    "plt.hist(count_list)"
   ]
  },
  {
   "cell_type": "code",
   "execution_count": 10,
   "metadata": {},
   "outputs": [
    {
     "data": {
      "text/plain": [
       "67"
      ]
     },
     "execution_count": 10,
     "metadata": {},
     "output_type": "execute_result"
    }
   ],
   "source": [
    "np.argmax(count_list)"
   ]
  },
  {
   "cell_type": "code",
   "execution_count": 11,
   "metadata": {},
   "outputs": [
    {
     "data": {
      "text/plain": [
       "30"
      ]
     },
     "execution_count": 11,
     "metadata": {},
     "output_type": "execute_result"
    }
   ],
   "source": [
    "count_list[67]"
   ]
  },
  {
   "cell_type": "code",
   "execution_count": 12,
   "metadata": {},
   "outputs": [
    {
     "data": {
      "text/plain": [
       "'E:\\\\agent\\\\Plagiarism_detection\\\\stat\\\\AI报告_张佳洛_117106021976.docx.txt.json'"
      ]
     },
     "execution_count": 12,
     "metadata": {},
     "output_type": "execute_result"
    }
   ],
   "source": [
    "name_list[67]"
   ]
  },
  {
   "cell_type": "markdown",
   "metadata": {},
   "source": [
    "过了一年还是能抓到你啊小老弟。"
   ]
  },
  {
   "cell_type": "code",
   "execution_count": 21,
   "metadata": {},
   "outputs": [
    {
     "data": {
      "text/plain": [
       "2"
      ]
     },
     "execution_count": 21,
     "metadata": {},
     "output_type": "execute_result"
    }
   ],
   "source": [
    "np.argmin(count_list)"
   ]
  },
  {
   "cell_type": "code",
   "execution_count": 22,
   "metadata": {},
   "outputs": [
    {
     "data": {
      "text/plain": [
       "0"
      ]
     },
     "execution_count": 22,
     "metadata": {},
     "output_type": "execute_result"
    }
   ],
   "source": [
    "count_list[2]"
   ]
  },
  {
   "cell_type": "code",
   "execution_count": 23,
   "metadata": {},
   "outputs": [
    {
     "data": {
      "text/plain": [
       "'E:\\\\agent\\\\Plagiarism_detection\\\\stat\\\\AI 报告_宋梦菲_117106010766.pdf.txt.json'"
      ]
     },
     "execution_count": 23,
     "metadata": {},
     "output_type": "execute_result"
    }
   ],
   "source": [
    "name_list[2]"
   ]
  },
  {
   "cell_type": "markdown",
   "metadata": {},
   "source": [
    "它这那么低好像是因为pdf提取出来的格式有很多额外的回车。。"
   ]
  },
  {
   "cell_type": "code",
   "execution_count": 24,
   "metadata": {},
   "outputs": [
    {
     "name": "stdout",
     "output_type": "stream",
     "text": [
      "E:\\agent\\Plagiarism_detection\\stat\\AI 报告_宋梦菲_117106010766.pdf.txt.json\n",
      "E:\\agent\\Plagiarism_detection\\stat\\AI▒¿╕µ_╨√┐¡╓▐_117106010706.pdf.txt.json\n",
      "E:\\agent\\Plagiarism_detection\\stat\\AI报告_彭伟航_117106021897 (1).docx.txt.json\n",
      "E:\\agent\\Plagiarism_detection\\stat\\AI报告_杨帆_117106010714.docx.txt.json\n",
      "E:\\agent\\Plagiarism_detection\\stat\\AI报告_訾烨_117106010694.docx.txt.json\n",
      "E:\\agent\\Plagiarism_detection\\stat\\人工智能2017综述报告（AI报告_邵帅_117106021884）.doc.txt.json\n"
     ]
    }
   ],
   "source": [
    "for i in range(len(count_list)):\n",
    "    if count_list[i] == 0:\n",
    "        print(name_list[i])"
   ]
  },
  {
   "cell_type": "code",
   "execution_count": 14,
   "metadata": {},
   "outputs": [
    {
     "name": "stdout",
     "output_type": "stream",
     "text": [
      "\n",
      "\n",
      "人工智能原理与方法结课论文\n",
      "\n",
      "\n",
      "\n",
      "\n",
      "\n",
      "\n",
      "\n",
      "\n",
      "\n",
      "\n",
      "境下传输图像或视频，那么必须对图像进行编码和压缩。\n",
      "]. 软件学报, 2010, 21(8):1849\n",
      "个具体的字母A,也能识别印刷体的、手写体的、方向不\n",
      "作为一个一维向量输入，因此输入节点庞大，其识别重要\n",
      "何特征量，而这些特征量形成一描述该面像的特征向量。\n",
      "图像构造主元子空间，由于主元具有脸的形状，也称为特\n",
      "别的模板匹配模型简单明了，也容易得到实际应用。但这\n",
      "某一个具体的字母A,也能识别印刷体的、手写体的、方\n",
      "行处理、分析和理解，以识别各种不同模式的目标和对像\n",
      "也表明，改进的特征脸算法是主流的人脸识别技术，也是\n",
      "神经识别算法。”这种算法是利用人体面部各器官及特征\n",
      ".\n",
      "\n",
      "[6] 周激流, 张晔. 人脸识别理论研究进\n",
      "enface(PCA)算法已经与经典的模板匹配算法\n",
      "显著特征的一个高效描述，但它需要大量的前处理和精细\n",
      "等重要特征点的位置和眼睛等重要器官的几何形状作为分\n",
      "国内则采用统计学习理论中的支撑向量机进行人脸分类。\n",
      "模型参数，并利用辨别分析的方法进行基于形状信息的人\n",
      "局部人体特征分析”和“图形/神经识别算法。”这种算\n",
      "已知图形。Ｗｉｓｃｏｔｔ等人在此基础上作了改进，用\n",
      "像识别是利用计算机对图像进行处理、分析和理解，以识\n",
      "将测试  图像投影到主元子空间上，得到一组投影系数\n",
      "—91.\n",
      "\n",
      "[2]胡学龙.数字图像处理[M].北京\n",
      "然后根据这六条规则进行五官的定位，将五官之间的几何\n",
      "的图像恢复原始图。图像复原的另一种特殊技术是图像重\n",
      "善，Laurence等采用卷积神经网络方法进行人脸\n",
      "难以推广，二是能量函数优化过程十分耗时，难以实际应\n",
      "基准算法；而自1991年特征脸技术诞生以来，研究者\n",
      "合起来进行人脸识别的混合分类器模型，Phillip\n",
      "据库中所有的原始参数进行比较、判断与确认。Turk\n",
      "中非监督神经网络用于特征提取，而监督神经网络用于分\n",
      "势，因为对人脸识别的许多规律或规则进行显性的描述是\n",
      "们都是把人脸表示为一些向量的加权和，这些向量是训练\n",
      "综述[J]. 模式识别与人工智能, 2006, 1\n",
      "着许多问题：如在图像识别过程中的图像分割算法之间的\n",
      "征的一个高效描述，但它需要大量的前处理和精细的参数\n",
      "体所处的位置和姿态以引导计算初工作。目前，图像识别\n",
      "减少图像中的图像的噪声，改变原来图像的亮度、色彩分\n",
      "图像进行恢复，图像恢复主要采用滤波方法，从降质的图\n",
      "过各种观测系统从客观世界中获得，具有直观性和易理解\n"
     ]
    }
   ],
   "source": [
    "for s in record_list[67]:\n",
    "    print(s['text'])"
   ]
  },
  {
   "cell_type": "code",
   "execution_count": 15,
   "metadata": {},
   "outputs": [],
   "source": [
    "import jieba"
   ]
  },
  {
   "cell_type": "code",
   "execution_count": 16,
   "metadata": {},
   "outputs": [
    {
     "name": "stderr",
     "output_type": "stream",
     "text": [
      "Building prefix dict from the default dictionary ...\n",
      "Loading model from cache C:\\Users\\YIYUEZ~1\\AppData\\Local\\Temp\\jieba.cache\n",
      "Loading model cost 0.627 seconds.\n",
      "Prefix dict has been built succesfully.\n"
     ]
    },
    {
     "data": {
      "text/plain": [
       "['体所处',\n",
       " '的',\n",
       " '位置',\n",
       " '和',\n",
       " '姿态',\n",
       " '以',\n",
       " '引导',\n",
       " '计算',\n",
       " '初',\n",
       " '工作',\n",
       " '。',\n",
       " '目前',\n",
       " '，',\n",
       " '图像识别']"
      ]
     },
     "execution_count": 16,
     "metadata": {},
     "output_type": "execute_result"
    }
   ],
   "source": [
    "list(jieba.cut(\"体所处的位置和姿态以引导计算初工作。目前，图像识别\"))"
   ]
  },
  {
   "cell_type": "code",
   "execution_count": 17,
   "metadata": {},
   "outputs": [
    {
     "data": {
      "text/plain": [
       "['图像',\n",
       " '进行',\n",
       " '恢复',\n",
       " '，',\n",
       " '图像',\n",
       " '恢复',\n",
       " '主要',\n",
       " '采用',\n",
       " '滤波',\n",
       " '方法',\n",
       " '，',\n",
       " '从',\n",
       " '降质',\n",
       " '的',\n",
       " '图']"
      ]
     },
     "execution_count": 17,
     "metadata": {},
     "output_type": "execute_result"
    }
   ],
   "source": [
    "list(jieba.cut(\"图像进行恢复，图像恢复主要采用滤波方法，从降质的图\"))"
   ]
  },
  {
   "cell_type": "code",
   "execution_count": 18,
   "metadata": {},
   "outputs": [],
   "source": [
    "word_list = [list(jieba.cut(s['text'])) for p in record_list for s in p]\n",
    "label_list = [s['count']>0 for p in record_list for s in p]\n"
   ]
  },
  {
   "cell_type": "code",
   "execution_count": 19,
   "metadata": {},
   "outputs": [
    {
     "data": {
      "text/plain": [
       "0.21687898089171975"
      ]
     },
     "execution_count": 19,
     "metadata": {},
     "output_type": "execute_result"
    }
   ],
   "source": [
    "sum(label_list)/len(label_list)"
   ]
  },
  {
   "cell_type": "code",
   "execution_count": 28,
   "metadata": {},
   "outputs": [],
   "source": [
    "with open('traning_data.json','w',encoding='utf8') as f:\n",
    "    json.dump({'word_list':word_list, 'label_list':label_list,'count_list':count_list,'name_list':name_list}, f)"
   ]
  },
  {
   "cell_type": "code",
   "execution_count": null,
   "metadata": {},
   "outputs": [],
   "source": []
  }
 ],
 "metadata": {
  "kernelspec": {
   "display_name": "Python 3",
   "language": "python",
   "name": "python3"
  },
  "language_info": {
   "codemirror_mode": {
    "name": "ipython",
    "version": 3
   },
   "file_extension": ".py",
   "mimetype": "text/x-python",
   "name": "python",
   "nbconvert_exporter": "python",
   "pygments_lexer": "ipython3",
   "version": "3.6.5"
  }
 },
 "nbformat": 4,
 "nbformat_minor": 2
}
