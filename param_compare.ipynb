{
 "cells": [
  {
   "cell_type": "code",
   "execution_count": 1,
   "metadata": {},
   "outputs": [
    {
     "name": "stdout",
     "output_type": "stream",
     "text": [
      "creating model\n"
     ]
    }
   ],
   "source": [
    "import torch\n",
    "import torch.nn as nn\n",
    "import torch.nn.functional as F\n",
    "#import json\n",
    "import random\n",
    "import os\n",
    "from data_process import EmbeddingManager\n",
    "\n",
    "\n",
    "#import os\n",
    "\n",
    "from evaluation_tool import EvaluationManager\n",
    "\n",
    "print(\"creating model\")\n",
    "used_embedding = 'sgns.zhihu.word'\n",
    "embedding_dir = 'embedding_tensor'\n",
    "load_cache_model = \"model_cache/model\"\n",
    "\n",
    "embedding_manager = EmbeddingManager(used_embedding, embedding_dir)\n"
   ]
  },
  {
   "cell_type": "code",
   "execution_count": 2,
   "metadata": {},
   "outputs": [
    {
     "name": "stdout",
     "output_type": "stream",
     "text": [
      "loading data\n",
      "size 6280 -> 6143\n",
      "size 320 -> 306\n"
     ]
    }
   ],
   "source": [
    "# prepare data\n",
    "print(\"loading data\")\n",
    "feature_list, target_list = embedding_manager.load_data('traning_data.json')\n",
    "feature_list_test, target_list_test = embedding_manager.load_data('testing_data.json')\n"
   ]
  },
  {
   "cell_type": "code",
   "execution_count": 3,
   "metadata": {},
   "outputs": [],
   "source": [
    "cuda = True\n",
    "if cuda:\n",
    "\n",
    "    feature_list = [feature.cuda() for feature in feature_list]\n",
    "    target_list = [target.cuda() for target in target_list]\n",
    "    feature_list_test = [feature.cuda() for feature in feature_list_test]\n",
    "    target_list_test = [target.cuda() for target in target_list_test]\n",
    "\n",
    "    #model.cuda()\n"
   ]
  },
  {
   "cell_type": "code",
   "execution_count": 4,
   "metadata": {},
   "outputs": [],
   "source": [
    "import models"
   ]
  },
  {
   "cell_type": "code",
   "execution_count": 20,
   "metadata": {},
   "outputs": [],
   "source": [
    "import matplotlib.pyplot as plt\n",
    "%matplotlib inline"
   ]
  },
  {
   "cell_type": "code",
   "execution_count": 5,
   "metadata": {},
   "outputs": [],
   "source": [
    "%load_ext autoreload\n",
    "%autoreload 2"
   ]
  },
  {
   "cell_type": "code",
   "execution_count": 6,
   "metadata": {},
   "outputs": [],
   "source": [
    "embedding_obj = torch.load(os.path.join(embedding_dir, used_embedding))"
   ]
  },
  {
   "cell_type": "code",
   "execution_count": 7,
   "metadata": {},
   "outputs": [],
   "source": [
    "'''\n",
    "kernel_num = 100\n",
    "kernel_sizes = (3,4,5)\n",
    "dropout = 0.5\n",
    "\n",
    "model = models.CNNV2(embed_num = 259922, embed_dim = 300, class_num = 2, kernel_num = kernel_num, kernel_sizes = kernel_sizes,\n",
    "                dropout = dropout)\n",
    "\n",
    "#embedding_obj = torch.load(os.path.join(embedding_dir, used_embedding))\n",
    "model.use_pretrained_embedding(embedding_obj['tensor'], non_trainable = True)\n",
    "\n",
    "if cuda:\n",
    "    model.cuda()\n",
    "'''"
   ]
  },
  {
   "cell_type": "code",
   "execution_count": 12,
   "metadata": {},
   "outputs": [],
   "source": [
    "def create_model(kernel_num = 100, kernel_sizes = (3,4,5), dropout=0.5, cuda=True):\n",
    "    model = models.CNNV2(embed_num = 259922, embed_dim = 300, class_num = 2, kernel_num = kernel_num, kernel_sizes = kernel_sizes,\n",
    "                    dropout = dropout)\n",
    "    model.use_pretrained_embedding(embedding_obj['tensor'], non_trainable = True)\n",
    "\n",
    "    if cuda:\n",
    "        model.cuda()\n",
    "    \n",
    "    return model\n"
   ]
  },
  {
   "cell_type": "code",
   "execution_count": 16,
   "metadata": {},
   "outputs": [],
   "source": [
    "def train_model(model, n_iter = 100000, lr=0.001, record = None):\n",
    "    # training\n",
    "    #lr = 0.001\n",
    "    optimizer = torch.optim.Adam(model.parameters(), lr=lr)\n",
    "\n",
    "    len_data = len(feature_list)\n",
    "    \n",
    "    if record is None:\n",
    "        record = {}\n",
    "    record['loss_seq'] = []\n",
    "\n",
    "    print(\"start training\")\n",
    "    # optimizer = torch.optim.SGD(model.parameters(), lr=0.0001)\n",
    "    loss_cache = []\n",
    "    for i in range(n_iter):\n",
    "        idx = random.randint(0,len_data-1)\n",
    "        feature, target = feature_list[idx], target_list[idx]\n",
    "\n",
    "        optimizer.zero_grad()\n",
    "        out = model(feature) # before softmax(log_softmax)\n",
    "        out = out.squeeze(2)\n",
    "        loss = F.cross_entropy(out, target, size_average=False)\n",
    "        loss_cache.append(loss.item())\n",
    "        loss.backward()\n",
    "        optimizer.step()\n",
    "\n",
    "        if len(loss_cache) == 1000:\n",
    "            loss_est = sum(loss_cache)/len(loss_cache)\n",
    "            loss_cache = []\n",
    "            print(f'loss: {loss_est} {i}/{n_iter}')\n",
    "            record['loss_seq'].append(loss_est)\n",
    "    \n",
    "    return record\n",
    "    "
   ]
  },
  {
   "cell_type": "code",
   "execution_count": 23,
   "metadata": {},
   "outputs": [],
   "source": [
    "def eval_model(model):\n",
    "    model_train = model.train\n",
    "    model.train(False)\n",
    "\n",
    "    evaluation_manager = EvaluationManager(model, embedding_manager, cuda = cuda)\n",
    "    get_acc = evaluation_manager.get_acc\n",
    "    confuse_matrix = evaluation_manager.confuse_matrix\n",
    "    analysis_doc = evaluation_manager.analysis_doc\n",
    "\n",
    "\n",
    "    print(f'train acc {get_acc(feature_list, target_list)}') # 0.94\n",
    "    print(confuse_matrix(feature_list, target_list))\n",
    "\n",
    "    print(f'test acc {get_acc(feature_list_test, target_list_test)}') #\n",
    "    print(confuse_matrix(feature_list_test, target_list_test))\n",
    "    \n",
    "    model.train(model_train)\n",
    "    print(model.train)\n"
   ]
  },
  {
   "cell_type": "code",
   "execution_count": 11,
   "metadata": {},
   "outputs": [],
   "source": [
    "def save_model(model, cache_path = None):\n",
    "    import datetime\n",
    "    timestamp = str(datetime.datetime.now()).replace(':','-')\n",
    "    if cache_path is None:\n",
    "        cache_path = \"model_cache/model\"+timestamp\n",
    "    torch.save(model.state_dict(), cache_path)\n",
    "    print(f'save cache model {cache_path}')\n"
   ]
  },
  {
   "cell_type": "code",
   "execution_count": 13,
   "metadata": {},
   "outputs": [],
   "source": [
    "model345 = create_model(kernel_num = 100, kernel_sizes = (3,4,5), dropout=0.5)"
   ]
  },
  {
   "cell_type": "code",
   "execution_count": 17,
   "metadata": {
    "scrolled": false
   },
   "outputs": [
    {
     "name": "stdout",
     "output_type": "stream",
     "text": [
      "start training\n"
     ]
    },
    {
     "name": "stderr",
     "output_type": "stream",
     "text": [
      "D:\\anaconda\\lib\\site-packages\\torch\\nn\\functional.py:52: UserWarning: size_average and reduce args will be deprecated, please use reduction='sum' instead.\n",
      "  warnings.warn(warning.format(ret))\n"
     ]
    },
    {
     "name": "stdout",
     "output_type": "stream",
     "text": [
      "loss: 0.5565743560791016 999/100000\n",
      "loss: 0.5442296116575599 1999/100000\n",
      "loss: 0.49297299844026565 2999/100000\n",
      "loss: 0.5138475695848465 3999/100000\n",
      "loss: 0.5195789534896612 4999/100000\n",
      "loss: 0.5178411243408918 5999/100000\n",
      "loss: 0.45958848591148854 6999/100000\n",
      "loss: 0.5036293657198548 7999/100000\n",
      "loss: 0.47158551359176637 8999/100000\n",
      "loss: 0.451208191037178 9999/100000\n",
      "loss: 0.45861892035603524 10999/100000\n",
      "loss: 0.48714257951080797 11999/100000\n",
      "loss: 0.4679399844110012 12999/100000\n",
      "loss: 0.43058435171842574 13999/100000\n",
      "loss: 0.4271152044087648 14999/100000\n",
      "loss: 0.4279901704490185 15999/100000\n",
      "loss: 0.38167045147717 16999/100000\n",
      "loss: 0.3788106693327427 17999/100000\n",
      "loss: 0.40642280665785074 18999/100000\n",
      "loss: 0.3893596103787422 19999/100000\n",
      "loss: 0.3618382092565298 20999/100000\n",
      "loss: 0.3560297166109085 21999/100000\n",
      "loss: 0.3341560062766075 22999/100000\n",
      "loss: 0.3459038883149624 23999/100000\n",
      "loss: 0.3625205486267805 24999/100000\n",
      "loss: 0.32050370831787584 25999/100000\n",
      "loss: 0.315349952891469 26999/100000\n",
      "loss: 0.31795464900135995 27999/100000\n",
      "loss: 0.3353097432106733 28999/100000\n",
      "loss: 0.3157678182274103 29999/100000\n",
      "loss: 0.2684515957981348 30999/100000\n",
      "loss: 0.29727016779780385 31999/100000\n",
      "loss: 0.27540214379131794 32999/100000\n",
      "loss: 0.32573813951015473 33999/100000\n",
      "loss: 0.31374455672502516 34999/100000\n",
      "loss: 0.2934187894910574 35999/100000\n",
      "loss: 0.28955049441754815 36999/100000\n",
      "loss: 0.29206722089648246 37999/100000\n",
      "loss: 0.26323159322142603 38999/100000\n",
      "loss: 0.2347851779460907 39999/100000\n",
      "loss: 0.27107039184868337 40999/100000\n",
      "loss: 0.2763147052526474 41999/100000\n",
      "loss: 0.2921288164556026 42999/100000\n",
      "loss: 0.232692179530859 43999/100000\n",
      "loss: 0.23141572162508964 44999/100000\n",
      "loss: 0.27403024351596833 45999/100000\n",
      "loss: 0.2535179948061705 46999/100000\n",
      "loss: 0.20248791268467903 47999/100000\n",
      "loss: 0.25308894631266593 48999/100000\n",
      "loss: 0.23473301482200623 49999/100000\n",
      "loss: 0.23018016785383225 50999/100000\n",
      "loss: 0.22185674865543842 51999/100000\n",
      "loss: 0.2033173090070486 52999/100000\n",
      "loss: 0.2191246311366558 53999/100000\n",
      "loss: 0.22552513475716113 54999/100000\n",
      "loss: 0.24844355573505164 55999/100000\n",
      "loss: 0.21015079393982888 56999/100000\n",
      "loss: 0.19773609755933286 57999/100000\n",
      "loss: 0.18488152074813843 58999/100000\n",
      "loss: 0.2071636334657669 59999/100000\n",
      "loss: 0.20088942661881448 60999/100000\n",
      "loss: 0.1744332411289215 61999/100000\n",
      "loss: 0.18095449517667295 62999/100000\n",
      "loss: 0.19398812222480774 63999/100000\n",
      "loss: 0.19756627030670643 64999/100000\n",
      "loss: 0.19983123649656773 65999/100000\n",
      "loss: 0.22011248114705087 66999/100000\n",
      "loss: 0.1948428919315338 67999/100000\n",
      "loss: 0.18095059230923652 68999/100000\n",
      "loss: 0.19344018584489822 69999/100000\n",
      "loss: 0.20208291244506835 70999/100000\n",
      "loss: 0.20317042407393454 71999/100000\n",
      "loss: 0.16849548041820525 72999/100000\n",
      "loss: 0.177422315210104 73999/100000\n",
      "loss: 0.1729910736978054 74999/100000\n",
      "loss: 0.18208334351330996 75999/100000\n",
      "loss: 0.20903591795265675 76999/100000\n",
      "loss: 0.17157869984209537 77999/100000\n",
      "loss: 0.17426982769370078 78999/100000\n",
      "loss: 0.19672641944885255 79999/100000\n",
      "loss: 0.17592843687534332 80999/100000\n",
      "loss: 0.19068968981504442 81999/100000\n",
      "loss: 0.1671445735730231 82999/100000\n",
      "loss: 0.14484074540436268 83999/100000\n",
      "loss: 0.14985135965049268 84999/100000\n",
      "loss: 0.18742241317033767 85999/100000\n",
      "loss: 0.15791117809712887 86999/100000\n",
      "loss: 0.16711159148812293 87999/100000\n",
      "loss: 0.15598445650935172 88999/100000\n",
      "loss: 0.22292618210613727 89999/100000\n",
      "loss: 0.15849142494797708 90999/100000\n",
      "loss: 0.14673944318294524 91999/100000\n",
      "loss: 0.10366598778963089 92999/100000\n",
      "loss: 0.13737958179414272 93999/100000\n",
      "loss: 0.1246316134929657 94999/100000\n",
      "loss: 0.14620576196908952 95999/100000\n",
      "loss: 0.17759960275888442 96999/100000\n",
      "loss: 0.18983694568276405 97999/100000\n",
      "loss: 0.172826238065958 98999/100000\n",
      "loss: 0.14955507396161558 99999/100000\n"
     ]
    },
    {
     "data": {
      "text/plain": [
       "{'loss_seq': [0.5565743560791016,\n",
       "  0.5442296116575599,\n",
       "  0.49297299844026565,\n",
       "  0.5138475695848465,\n",
       "  0.5195789534896612,\n",
       "  0.5178411243408918,\n",
       "  0.45958848591148854,\n",
       "  0.5036293657198548,\n",
       "  0.47158551359176637,\n",
       "  0.451208191037178,\n",
       "  0.45861892035603524,\n",
       "  0.48714257951080797,\n",
       "  0.4679399844110012,\n",
       "  0.43058435171842574,\n",
       "  0.4271152044087648,\n",
       "  0.4279901704490185,\n",
       "  0.38167045147717,\n",
       "  0.3788106693327427,\n",
       "  0.40642280665785074,\n",
       "  0.3893596103787422,\n",
       "  0.3618382092565298,\n",
       "  0.3560297166109085,\n",
       "  0.3341560062766075,\n",
       "  0.3459038883149624,\n",
       "  0.3625205486267805,\n",
       "  0.32050370831787584,\n",
       "  0.315349952891469,\n",
       "  0.31795464900135995,\n",
       "  0.3353097432106733,\n",
       "  0.3157678182274103,\n",
       "  0.2684515957981348,\n",
       "  0.29727016779780385,\n",
       "  0.27540214379131794,\n",
       "  0.32573813951015473,\n",
       "  0.31374455672502516,\n",
       "  0.2934187894910574,\n",
       "  0.28955049441754815,\n",
       "  0.29206722089648246,\n",
       "  0.26323159322142603,\n",
       "  0.2347851779460907,\n",
       "  0.27107039184868337,\n",
       "  0.2763147052526474,\n",
       "  0.2921288164556026,\n",
       "  0.232692179530859,\n",
       "  0.23141572162508964,\n",
       "  0.27403024351596833,\n",
       "  0.2535179948061705,\n",
       "  0.20248791268467903,\n",
       "  0.25308894631266593,\n",
       "  0.23473301482200623,\n",
       "  0.23018016785383225,\n",
       "  0.22185674865543842,\n",
       "  0.2033173090070486,\n",
       "  0.2191246311366558,\n",
       "  0.22552513475716113,\n",
       "  0.24844355573505164,\n",
       "  0.21015079393982888,\n",
       "  0.19773609755933286,\n",
       "  0.18488152074813843,\n",
       "  0.2071636334657669,\n",
       "  0.20088942661881448,\n",
       "  0.1744332411289215,\n",
       "  0.18095449517667295,\n",
       "  0.19398812222480774,\n",
       "  0.19756627030670643,\n",
       "  0.19983123649656773,\n",
       "  0.22011248114705087,\n",
       "  0.1948428919315338,\n",
       "  0.18095059230923652,\n",
       "  0.19344018584489822,\n",
       "  0.20208291244506835,\n",
       "  0.20317042407393454,\n",
       "  0.16849548041820525,\n",
       "  0.177422315210104,\n",
       "  0.1729910736978054,\n",
       "  0.18208334351330996,\n",
       "  0.20903591795265675,\n",
       "  0.17157869984209537,\n",
       "  0.17426982769370078,\n",
       "  0.19672641944885255,\n",
       "  0.17592843687534332,\n",
       "  0.19068968981504442,\n",
       "  0.1671445735730231,\n",
       "  0.14484074540436268,\n",
       "  0.14985135965049268,\n",
       "  0.18742241317033767,\n",
       "  0.15791117809712887,\n",
       "  0.16711159148812293,\n",
       "  0.15598445650935172,\n",
       "  0.22292618210613727,\n",
       "  0.15849142494797708,\n",
       "  0.14673944318294524,\n",
       "  0.10366598778963089,\n",
       "  0.13737958179414272,\n",
       "  0.1246316134929657,\n",
       "  0.14620576196908952,\n",
       "  0.17759960275888442,\n",
       "  0.18983694568276405,\n",
       "  0.172826238065958,\n",
       "  0.14955507396161558]}"
      ]
     },
     "execution_count": 17,
     "metadata": {},
     "output_type": "execute_result"
    }
   ],
   "source": [
    "record345 = {}\n",
    "train_model(model345, record = record345)"
   ]
  },
  {
   "cell_type": "code",
   "execution_count": 21,
   "metadata": {},
   "outputs": [
    {
     "data": {
      "text/plain": [
       "[<matplotlib.lines.Line2D at 0x1823a533588>]"
      ]
     },
     "execution_count": 21,
     "metadata": {},
     "output_type": "execute_result"
    },
    {
     "data": {
      "image/png": "[encoded data removed]",
      "text/plain": [
       "<Figure size 432x288 with 1 Axes>"
      ]
     },
     "metadata": {},
     "output_type": "display_data"
    }
   ],
   "source": [
    "plt.plot(record345['loss_seq'])"
   ]
  },
  {
   "cell_type": "code",
   "execution_count": 24,
   "metadata": {},
   "outputs": [
    {
     "name": "stdout",
     "output_type": "stream",
     "text": [
      "train acc 0.9853491779260948\n",
      "tensor([[4766,   35],\n",
      "        [  55, 1287]])\n",
      "test acc 0.761437908496732\n",
      "tensor([[218,  24],\n",
      "        [ 49,  15]])\n",
      "<bound method Module.train of CNNV2(\n",
      "  (embed): Embedding(259922, 300)\n",
      "  (convs1): ModuleList(\n",
      "    (0): Conv2d(1, 100, kernel_size=(3, 300), stride=(1, 1))\n",
      "    (1): Conv2d(1, 100, kernel_size=(4, 300), stride=(1, 1))\n",
      "    (2): Conv2d(1, 100, kernel_size=(5, 300), stride=(1, 1))\n",
      "  )\n",
      "  (dropout): Dropout(p=0.5)\n",
      "  (conv2): Conv1d(300, 2, kernel_size=(1,), stride=(1,))\n",
      ")>\n"
     ]
    }
   ],
   "source": [
    "eval_model(model345)"
   ]
  },
  {
   "cell_type": "code",
   "execution_count": 25,
   "metadata": {},
   "outputs": [
    {
     "name": "stdout",
     "output_type": "stream",
     "text": [
      "save cache model model_cache/model2018-11-25 12-31-12.206807\n"
     ]
    }
   ],
   "source": [
    "save_model(model345)"
   ]
  },
  {
   "cell_type": "code",
   "execution_count": 26,
   "metadata": {},
   "outputs": [],
   "source": [
    "model34 = create_model(kernel_num = 100, kernel_sizes = (3,4), dropout=0.5)"
   ]
  },
  {
   "cell_type": "code",
   "execution_count": 27,
   "metadata": {},
   "outputs": [
    {
     "name": "stdout",
     "output_type": "stream",
     "text": [
      "start training\n"
     ]
    },
    {
     "name": "stderr",
     "output_type": "stream",
     "text": [
      "D:\\anaconda\\lib\\site-packages\\torch\\nn\\functional.py:52: UserWarning: size_average and reduce args will be deprecated, please use reduction='sum' instead.\n",
      "  warnings.warn(warning.format(ret))\n"
     ]
    },
    {
     "name": "stdout",
     "output_type": "stream",
     "text": [
      "loss: 0.5732835996747017 999/100000\n",
      "loss: 0.5432452223896981 1999/100000\n",
      "loss: 0.4966003338098526 2999/100000\n",
      "loss: 0.5053496160805225 3999/100000\n",
      "loss: 0.5090458316504956 4999/100000\n",
      "loss: 0.4788723462074995 5999/100000\n",
      "loss: 0.4833341329395771 6999/100000\n",
      "loss: 0.45614990645647047 7999/100000\n",
      "loss: 0.4836358630657196 8999/100000\n",
      "loss: 0.4788308364748955 9999/100000\n",
      "loss: 0.45717192651331423 10999/100000\n",
      "loss: 0.4280923751592636 11999/100000\n",
      "loss: 0.4391767126172781 12999/100000\n",
      "loss: 0.46015976145863535 13999/100000\n",
      "loss: 0.40288648402690885 14999/100000\n",
      "loss: 0.40359081175923345 15999/100000\n",
      "loss: 0.4261920538395643 16999/100000\n",
      "loss: 0.3905508672147989 17999/100000\n",
      "loss: 0.4132982253134251 18999/100000\n",
      "loss: 0.3922740674614906 19999/100000\n",
      "loss: 0.39066903953254223 20999/100000\n",
      "loss: 0.36322362364828586 21999/100000\n",
      "loss: 0.39194253177940847 22999/100000\n",
      "loss: 0.3778153987377882 23999/100000\n",
      "loss: 0.35197713881731035 24999/100000\n",
      "loss: 0.3424098272919655 25999/100000\n",
      "loss: 0.34965737733244895 26999/100000\n",
      "loss: 0.3654494550228119 27999/100000\n",
      "loss: 0.32684548795223234 28999/100000\n",
      "loss: 0.3400421683192253 29999/100000\n",
      "loss: 0.35431052957475184 30999/100000\n",
      "loss: 0.31828624817728995 31999/100000\n",
      "loss: 0.3000354868173599 32999/100000\n",
      "loss: 0.30325970266759394 33999/100000\n",
      "loss: 0.32330805145204067 34999/100000\n",
      "loss: 0.3165037360340357 35999/100000\n",
      "loss: 0.2893582855910063 36999/100000\n",
      "loss: 0.27812187519669535 37999/100000\n",
      "loss: 0.2831595442593098 38999/100000\n",
      "loss: 0.2732265863865614 39999/100000\n",
      "loss: 0.282795012280345 40999/100000\n",
      "loss: 0.2963920973092318 41999/100000\n",
      "loss: 0.2749540077894926 42999/100000\n",
      "loss: 0.27011524873971937 43999/100000\n",
      "loss: 0.2753742084503174 44999/100000\n",
      "loss: 0.23565211038291453 45999/100000\n",
      "loss: 0.27069262382388115 46999/100000\n",
      "loss: 0.31165274149179456 47999/100000\n",
      "loss: 0.2573273271471262 48999/100000\n",
      "loss: 0.25934571313858035 49999/100000\n",
      "loss: 0.24303623697161675 50999/100000\n",
      "loss: 0.26656134039163587 51999/100000\n",
      "loss: 0.28475008726119994 52999/100000\n",
      "loss: 0.25828453014791014 53999/100000\n",
      "loss: 0.22703409078717232 54999/100000\n",
      "loss: 0.23015699139237403 55999/100000\n",
      "loss: 0.2116621035039425 56999/100000\n",
      "loss: 0.21697667361795903 57999/100000\n",
      "loss: 0.24093890169262885 58999/100000\n",
      "loss: 0.24325688283145427 59999/100000\n",
      "loss: 0.23339066258072852 60999/100000\n",
      "loss: 0.2132452775835991 61999/100000\n",
      "loss: 0.20743965753912927 62999/100000\n",
      "loss: 0.25002770926058293 63999/100000\n",
      "loss: 0.20321126979589463 64999/100000\n",
      "loss: 0.2407041077017784 65999/100000\n",
      "loss: 0.1796629767715931 66999/100000\n",
      "loss: 0.241336980253458 67999/100000\n",
      "loss: 0.21373100213706495 68999/100000\n",
      "loss: 0.20822816279530526 69999/100000\n",
      "loss: 0.21670980682969093 70999/100000\n",
      "loss: 0.2041726665496826 71999/100000\n",
      "loss: 0.20632344403862954 72999/100000\n",
      "loss: 0.19556042912602425 73999/100000\n",
      "loss: 0.18453897213935852 74999/100000\n",
      "loss: 0.2174742159843445 75999/100000\n",
      "loss: 0.18654750820994376 76999/100000\n",
      "loss: 0.22013384488224982 77999/100000\n",
      "loss: 0.19762582716345786 78999/100000\n",
      "loss: 0.1838304068148136 79999/100000\n",
      "loss: 0.14698839351534843 80999/100000\n",
      "loss: 0.1718722419142723 81999/100000\n",
      "loss: 0.18894666062295437 82999/100000\n",
      "loss: 0.19374958577752113 83999/100000\n",
      "loss: 0.1998668749034405 84999/100000\n",
      "loss: 0.1749435872733593 85999/100000\n",
      "loss: 0.173737174898386 86999/100000\n",
      "loss: 0.18602521161735058 87999/100000\n",
      "loss: 0.171818028151989 88999/100000\n",
      "loss: 0.18887348434329032 89999/100000\n",
      "loss: 0.1713281296044588 90999/100000\n",
      "loss: 0.1712607686817646 91999/100000\n",
      "loss: 0.20070430907607079 92999/100000\n",
      "loss: 0.17748013272881508 93999/100000\n",
      "loss: 0.13478068940341473 94999/100000\n",
      "loss: 0.16224907633662225 95999/100000\n",
      "loss: 0.17377707815170287 96999/100000\n",
      "loss: 0.1524590473473072 97999/100000\n",
      "loss: 0.16775327196717263 98999/100000\n",
      "loss: 0.17404157193005085 99999/100000\n",
      "Wall time: 9min 10s\n"
     ]
    }
   ],
   "source": [
    "%%time\n",
    "record34 = {}\n",
    "train_model(model34, record = record34)"
   ]
  },
  {
   "cell_type": "code",
   "execution_count": 28,
   "metadata": {},
   "outputs": [
    {
     "data": {
      "text/plain": [
       "[<matplotlib.lines.Line2D at 0x1823a5e4978>]"
      ]
     },
     "execution_count": 28,
     "metadata": {},
     "output_type": "execute_result"
    },
    {
     "data": {
      "image/png": "[encoded data removed]",
      "text/plain": [
       "<Figure size 432x288 with 1 Axes>"
      ]
     },
     "metadata": {},
     "output_type": "display_data"
    }
   ],
   "source": [
    "plt.plot(record34['loss_seq'])"
   ]
  },
  {
   "cell_type": "code",
   "execution_count": 29,
   "metadata": {},
   "outputs": [
    {
     "name": "stdout",
     "output_type": "stream",
     "text": [
      "train acc 0.980302783656194\n",
      "tensor([[4786,   15],\n",
      "        [ 106, 1236]])\n",
      "test acc 0.7679738562091504\n",
      "tensor([[222,  20],\n",
      "        [ 51,  13]])\n",
      "<bound method Module.train of CNNV2(\n",
      "  (embed): Embedding(259922, 300)\n",
      "  (convs1): ModuleList(\n",
      "    (0): Conv2d(1, 100, kernel_size=(3, 300), stride=(1, 1))\n",
      "    (1): Conv2d(1, 100, kernel_size=(4, 300), stride=(1, 1))\n",
      "  )\n",
      "  (dropout): Dropout(p=0.5)\n",
      "  (conv2): Conv1d(200, 2, kernel_size=(1,), stride=(1,))\n",
      ")>\n"
     ]
    }
   ],
   "source": [
    "eval_model(model34)"
   ]
  },
  {
   "cell_type": "code",
   "execution_count": 30,
   "metadata": {},
   "outputs": [
    {
     "name": "stdout",
     "output_type": "stream",
     "text": [
      "save cache model model_cache/model2018-11-25 12-43-45.127202\n"
     ]
    }
   ],
   "source": [
    "save_model(model34)"
   ]
  },
  {
   "cell_type": "code",
   "execution_count": 32,
   "metadata": {},
   "outputs": [
    {
     "name": "stdout",
     "output_type": "stream",
     "text": [
      "Wall time: 785 ms\n"
     ]
    }
   ],
   "source": [
    "%%time\n",
    "model3 = create_model(kernel_num = 100, kernel_sizes = (3,), dropout=0.5)"
   ]
  },
  {
   "cell_type": "code",
   "execution_count": 33,
   "metadata": {
    "scrolled": false
   },
   "outputs": [
    {
     "name": "stdout",
     "output_type": "stream",
     "text": [
      "start training\n"
     ]
    },
    {
     "name": "stderr",
     "output_type": "stream",
     "text": [
      "D:\\anaconda\\lib\\site-packages\\torch\\nn\\functional.py:52: UserWarning: size_average and reduce args will be deprecated, please use reduction='sum' instead.\n",
      "  warnings.warn(warning.format(ret))\n"
     ]
    },
    {
     "name": "stdout",
     "output_type": "stream",
     "text": [
      "loss: 0.5641817608177662 999/100000\n",
      "loss: 0.5180348605662585 1999/100000\n",
      "loss: 0.4788674960322678 2999/100000\n",
      "loss: 0.4959678508043289 3999/100000\n",
      "loss: 0.4993215324282646 4999/100000\n",
      "loss: 0.48864929769933224 5999/100000\n",
      "loss: 0.4870012004226446 6999/100000\n",
      "loss: 0.529008617952466 7999/100000\n",
      "loss: 0.5123358829021454 8999/100000\n",
      "loss: 0.49176772110164163 9999/100000\n",
      "loss: 0.4416584071069956 10999/100000\n",
      "loss: 0.47864444874227047 11999/100000\n",
      "loss: 0.39750085669755936 12999/100000\n",
      "loss: 0.47196654284000394 13999/100000\n",
      "loss: 0.4481651755273342 14999/100000\n",
      "loss: 0.4299611163437366 15999/100000\n",
      "loss: 0.41916742478311064 16999/100000\n",
      "loss: 0.4482549553960562 17999/100000\n",
      "loss: 0.4113357098698616 18999/100000\n",
      "loss: 0.40537041184306144 19999/100000\n",
      "loss: 0.46694341632723807 20999/100000\n",
      "loss: 0.39957033544778825 21999/100000\n",
      "loss: 0.3796930588632822 22999/100000\n",
      "loss: 0.3963094180971384 23999/100000\n",
      "loss: 0.3915163770914078 24999/100000\n",
      "loss: 0.39942283821105956 25999/100000\n",
      "loss: 0.3914776349067688 26999/100000\n",
      "loss: 0.37941806711256504 27999/100000\n",
      "loss: 0.3792903462201357 28999/100000\n",
      "loss: 0.39628281827270984 29999/100000\n",
      "loss: 0.37153512799739835 30999/100000\n",
      "loss: 0.3682582938224077 31999/100000\n",
      "loss: 0.3848510436862707 32999/100000\n",
      "loss: 0.3580840695202351 33999/100000\n",
      "loss: 0.3646921189725399 34999/100000\n",
      "loss: 0.3446000249683857 35999/100000\n",
      "loss: 0.3775822255462408 36999/100000\n",
      "loss: 0.34725634890794754 37999/100000\n",
      "loss: 0.35086644142866136 38999/100000\n",
      "loss: 0.31479489251971243 39999/100000\n",
      "loss: 0.3474733463227749 40999/100000\n",
      "loss: 0.3289318145811558 41999/100000\n",
      "loss: 0.31281256191432477 42999/100000\n",
      "loss: 0.3225991391837597 43999/100000\n",
      "loss: 0.3236769080609083 44999/100000\n",
      "loss: 0.3179971567094326 45999/100000\n",
      "loss: 0.3064661171734333 46999/100000\n",
      "loss: 0.32633242270350454 47999/100000\n",
      "loss: 0.3014507726877928 48999/100000\n",
      "loss: 0.3162996063530445 49999/100000\n",
      "loss: 0.27325243085622786 50999/100000\n",
      "loss: 0.280346365198493 51999/100000\n",
      "loss: 0.28259189157187936 52999/100000\n",
      "loss: 0.27528726528584957 53999/100000\n",
      "loss: 0.2671887744963169 54999/100000\n",
      "loss: 0.3108041790947318 55999/100000\n",
      "loss: 0.28673378863930704 56999/100000\n",
      "loss: 0.2909153620004654 57999/100000\n",
      "loss: 0.2622298977971077 58999/100000\n",
      "loss: 0.2439555272459984 59999/100000\n",
      "loss: 0.22579498196393252 60999/100000\n",
      "loss: 0.2733034288287163 61999/100000\n",
      "loss: 0.24836059726774692 62999/100000\n",
      "loss: 0.26256982386112215 63999/100000\n",
      "loss: 0.252996358782053 64999/100000\n",
      "loss: 0.25269467374682425 65999/100000\n",
      "loss: 0.28871875689923765 66999/100000\n",
      "loss: 0.26980721129477025 67999/100000\n",
      "loss: 0.24040599535405635 68999/100000\n",
      "loss: 0.24784102746844291 69999/100000\n",
      "loss: 0.28843469700217245 70999/100000\n",
      "loss: 0.2493356033563614 71999/100000\n",
      "loss: 0.24689396822452545 72999/100000\n",
      "loss: 0.24995811074972152 73999/100000\n",
      "loss: 0.2672011977285147 74999/100000\n",
      "loss: 0.2659459864348173 75999/100000\n",
      "loss: 0.2510222150683403 76999/100000\n",
      "loss: 0.22681101793050765 77999/100000\n",
      "loss: 0.25736083602905274 78999/100000\n",
      "loss: 0.21683373050391674 79999/100000\n",
      "loss: 0.2335577279627323 80999/100000\n",
      "loss: 0.2596328292787075 81999/100000\n",
      "loss: 0.2366846240013838 82999/100000\n",
      "loss: 0.2337326368615031 83999/100000\n",
      "loss: 0.25749280834197996 84999/100000\n",
      "loss: 0.22133130201697349 85999/100000\n",
      "loss: 0.230486562281847 86999/100000\n",
      "loss: 0.22432963529229163 87999/100000\n",
      "loss: 0.1979605724811554 88999/100000\n",
      "loss: 0.19625365090370178 89999/100000\n",
      "loss: 0.2144964028596878 90999/100000\n",
      "loss: 0.19356530575454234 91999/100000\n",
      "loss: 0.19069772031903268 92999/100000\n",
      "loss: 0.19678728346526622 93999/100000\n",
      "loss: 0.2015352193415165 94999/100000\n",
      "loss: 0.19149768970906733 95999/100000\n",
      "loss: 0.21250396586954592 96999/100000\n",
      "loss: 0.1998951093107462 97999/100000\n",
      "loss: 0.19563547064363956 98999/100000\n",
      "loss: 0.20673086929321288 99999/100000\n",
      "Wall time: 6min 33s\n"
     ]
    },
    {
     "data": {
      "image/png": "[encoded data removed]",
      "text/plain": [
       "<Figure size 432x288 with 1 Axes>"
      ]
     },
     "metadata": {},
     "output_type": "display_data"
    }
   ],
   "source": [
    "%%time\n",
    "record3 = {}\n",
    "train_model(model3, record = record3)\n",
    "plt.plot(record3['loss_seq'])"
   ]
  },
  {
   "cell_type": "code",
   "execution_count": 34,
   "metadata": {},
   "outputs": [
    {
     "name": "stdout",
     "output_type": "stream",
     "text": [
      "train acc 0.9715122904118508\n",
      "tensor([[4754,   47],\n",
      "        [ 128, 1214]])\n",
      "test acc 0.761437908496732\n",
      "tensor([[215,  27],\n",
      "        [ 46,  18]])\n",
      "<bound method Module.train of CNNV2(\n",
      "  (embed): Embedding(259922, 300)\n",
      "  (convs1): ModuleList(\n",
      "    (0): Conv2d(1, 100, kernel_size=(3, 300), stride=(1, 1))\n",
      "  )\n",
      "  (dropout): Dropout(p=0.5)\n",
      "  (conv2): Conv1d(100, 2, kernel_size=(1,), stride=(1,))\n",
      ")>\n",
      "save cache model model_cache/model2018-11-25 12-52-35.926410\n",
      "Wall time: 17.5 s\n"
     ]
    }
   ],
   "source": [
    "%%time\n",
    "eval_model(model3)\n",
    "save_model(model3)"
   ]
  },
  {
   "cell_type": "code",
   "execution_count": 35,
   "metadata": {},
   "outputs": [
    {
     "name": "stdout",
     "output_type": "stream",
     "text": [
      "Wall time: 1.16 s\n"
     ]
    }
   ],
   "source": [
    "%%time\n",
    "model1 = create_model(kernel_num = 100, kernel_sizes = (1,), dropout=0.5)"
   ]
  },
  {
   "cell_type": "code",
   "execution_count": 36,
   "metadata": {
    "scrolled": false
   },
   "outputs": [
    {
     "name": "stdout",
     "output_type": "stream",
     "text": [
      "start training\n"
     ]
    },
    {
     "name": "stderr",
     "output_type": "stream",
     "text": [
      "D:\\anaconda\\lib\\site-packages\\torch\\nn\\functional.py:52: UserWarning: size_average and reduce args will be deprecated, please use reduction='sum' instead.\n",
      "  warnings.warn(warning.format(ret))\n"
     ]
    },
    {
     "name": "stdout",
     "output_type": "stream",
     "text": [
      "loss: 0.519822897106409 999/100000\n",
      "loss: 0.5062105731368065 1999/100000\n",
      "loss: 0.49930012695491316 2999/100000\n",
      "loss: 0.49973085936903955 3999/100000\n",
      "loss: 0.5249617539942265 4999/100000\n",
      "loss: 0.4861691923290491 5999/100000\n",
      "loss: 0.5031005739271641 6999/100000\n",
      "loss: 0.4607803351432085 7999/100000\n",
      "loss: 0.48352287447452547 8999/100000\n",
      "loss: 0.4702395254075527 9999/100000\n",
      "loss: 0.4973519613146782 10999/100000\n",
      "loss: 0.466738732278347 11999/100000\n",
      "loss: 0.46910920360684394 12999/100000\n",
      "loss: 0.4701859894394875 13999/100000\n",
      "loss: 0.49819860461354254 14999/100000\n",
      "loss: 0.45463844972848894 15999/100000\n",
      "loss: 0.464588001459837 16999/100000\n",
      "loss: 0.4607433348447084 17999/100000\n",
      "loss: 0.4495447965413332 18999/100000\n",
      "loss: 0.4492405082434416 19999/100000\n",
      "loss: 0.44615665954351424 20999/100000\n",
      "loss: 0.43695623491704466 21999/100000\n",
      "loss: 0.4761184049099684 22999/100000\n",
      "loss: 0.404241025686264 23999/100000\n",
      "loss: 0.4574057778269052 24999/100000\n",
      "loss: 0.43118762655556203 25999/100000\n",
      "loss: 0.4265905538201332 26999/100000\n",
      "loss: 0.42123887571692464 27999/100000\n",
      "loss: 0.42692432272434233 28999/100000\n",
      "loss: 0.4259293987452984 29999/100000\n",
      "loss: 0.41006437566876414 30999/100000\n",
      "loss: 0.40596973860263824 31999/100000\n",
      "loss: 0.4344517171382904 32999/100000\n",
      "loss: 0.39492220675945283 33999/100000\n",
      "loss: 0.4271672523021698 34999/100000\n",
      "loss: 0.40999691958725454 35999/100000\n",
      "loss: 0.38697126314044 36999/100000\n",
      "loss: 0.4436047898679972 37999/100000\n",
      "loss: 0.3981362391263247 38999/100000\n",
      "loss: 0.42043361139297486 39999/100000\n",
      "loss: 0.38166927120089533 40999/100000\n",
      "loss: 0.4154329437017441 41999/100000\n",
      "loss: 0.4126735730469227 42999/100000\n",
      "loss: 0.4078375559151173 43999/100000\n",
      "loss: 0.3902333216369152 44999/100000\n",
      "loss: 0.42434328189492226 45999/100000\n",
      "loss: 0.38953553564101456 46999/100000\n",
      "loss: 0.38546800549328325 47999/100000\n",
      "loss: 0.38892261977493764 48999/100000\n",
      "loss: 0.3813629439175129 49999/100000\n",
      "loss: 0.4384400840997696 50999/100000\n",
      "loss: 0.3959268341064453 51999/100000\n",
      "loss: 0.3744287588894367 52999/100000\n",
      "loss: 0.3969837601780891 53999/100000\n",
      "loss: 0.37807687816023827 54999/100000\n",
      "loss: 0.4071537414193153 55999/100000\n",
      "loss: 0.4072356770783663 56999/100000\n",
      "loss: 0.37808464634418487 57999/100000\n",
      "loss: 0.40299495033919813 58999/100000\n",
      "loss: 0.36797084552049636 59999/100000\n",
      "loss: 0.36858182856440547 60999/100000\n",
      "loss: 0.3683606655150652 61999/100000\n",
      "loss: 0.39065939754247664 62999/100000\n",
      "loss: 0.3817697608321905 63999/100000\n",
      "loss: 0.37747304025292394 64999/100000\n",
      "loss: 0.3813815782368183 65999/100000\n",
      "loss: 0.3619760752916336 66999/100000\n",
      "loss: 0.3768204150795937 67999/100000\n",
      "loss: 0.3654814220368862 68999/100000\n",
      "loss: 0.39892136192321775 69999/100000\n",
      "loss: 0.34790323458611966 70999/100000\n",
      "loss: 0.3850998465269804 71999/100000\n",
      "loss: 0.370389498129487 72999/100000\n",
      "loss: 0.3525458176881075 73999/100000\n",
      "loss: 0.33959214517474173 74999/100000\n",
      "loss: 0.37693513947725293 75999/100000\n",
      "loss: 0.36942385383695364 76999/100000\n",
      "loss: 0.37042738251388074 77999/100000\n",
      "loss: 0.35586936751008036 78999/100000\n",
      "loss: 0.3801526615023613 79999/100000\n",
      "loss: 0.34436174765229227 80999/100000\n",
      "loss: 0.37320436207950114 81999/100000\n",
      "loss: 0.3776754519343376 82999/100000\n",
      "loss: 0.3560911204516888 83999/100000\n",
      "loss: 0.37043088537454605 84999/100000\n",
      "loss: 0.3355584239959717 85999/100000\n",
      "loss: 0.34694695499539374 86999/100000\n",
      "loss: 0.3753786913752556 87999/100000\n",
      "loss: 0.3471189432442188 88999/100000\n",
      "loss: 0.3948689857125282 89999/100000\n",
      "loss: 0.33601641660928727 90999/100000\n",
      "loss: 0.3231742361187935 91999/100000\n",
      "loss: 0.32377555191516877 92999/100000\n",
      "loss: 0.3732838033735752 93999/100000\n",
      "loss: 0.32009648078680036 94999/100000\n",
      "loss: 0.3609207910001278 95999/100000\n",
      "loss: 0.3652375900745392 96999/100000\n",
      "loss: 0.35427734711766246 97999/100000\n",
      "loss: 0.30428517827391627 98999/100000\n",
      "loss: 0.3247027473151684 99999/100000\n",
      "Wall time: 7min 10s\n"
     ]
    },
    {
     "data": {
      "image/png": "[encoded data removed]",
      "text/plain": [
       "<Figure size 432x288 with 1 Axes>"
      ]
     },
     "metadata": {},
     "output_type": "display_data"
    }
   ],
   "source": [
    "%%time\n",
    "record1 = {}\n",
    "train_model(model1, record = record1)\n",
    "plt.plot(record1['loss_seq'])"
   ]
  },
  {
   "cell_type": "code",
   "execution_count": 37,
   "metadata": {},
   "outputs": [
    {
     "name": "stdout",
     "output_type": "stream",
     "text": [
      "train acc 0.8933745726843562\n",
      "tensor([[4668,  133],\n",
      "        [ 522,  820]])\n",
      "test acc 0.7777777777777778\n",
      "tensor([[222,  20],\n",
      "        [ 48,  16]])\n",
      "<bound method Module.train of CNNV2(\n",
      "  (embed): Embedding(259922, 300)\n",
      "  (convs1): ModuleList(\n",
      "    (0): Conv2d(1, 100, kernel_size=(1, 300), stride=(1, 1))\n",
      "  )\n",
      "  (dropout): Dropout(p=0.5)\n",
      "  (conv2): Conv1d(100, 2, kernel_size=(1,), stride=(1,))\n",
      ")>\n",
      "save cache model model_cache/model2018-11-25 13-06-55.732564\n",
      "Wall time: 17.3 s\n"
     ]
    }
   ],
   "source": [
    "%%time\n",
    "eval_model(model1)\n",
    "save_model(model1)"
   ]
  },
  {
   "cell_type": "code",
   "execution_count": 38,
   "metadata": {},
   "outputs": [
    {
     "name": "stdout",
     "output_type": "stream",
     "text": [
      "Wall time: 1.52 s\n"
     ]
    }
   ],
   "source": [
    "%%time\n",
    "model1_10 = create_model(kernel_num = 10, kernel_sizes = (1,), dropout=0.5)"
   ]
  },
  {
   "cell_type": "code",
   "execution_count": 39,
   "metadata": {
    "scrolled": false
   },
   "outputs": [
    {
     "name": "stdout",
     "output_type": "stream",
     "text": [
      "start training\n"
     ]
    },
    {
     "name": "stderr",
     "output_type": "stream",
     "text": [
      "D:\\anaconda\\lib\\site-packages\\torch\\nn\\functional.py:52: UserWarning: size_average and reduce args will be deprecated, please use reduction='sum' instead.\n",
      "  warnings.warn(warning.format(ret))\n"
     ]
    },
    {
     "name": "stdout",
     "output_type": "stream",
     "text": [
      "loss: 0.5000582050383091 999/100000\n",
      "loss: 0.5079974482059478 1999/100000\n",
      "loss: 0.523402526319027 2999/100000\n",
      "loss: 0.513785698518157 3999/100000\n",
      "loss: 0.501201497271657 4999/100000\n",
      "loss: 0.5157327495664358 5999/100000\n",
      "loss: 0.5012979766130448 6999/100000\n",
      "loss: 0.4829517799466848 7999/100000\n",
      "loss: 0.5435851445794105 8999/100000\n",
      "loss: 0.5010494329482317 9999/100000\n",
      "loss: 0.49431532353907826 10999/100000\n",
      "loss: 0.5007770771682263 11999/100000\n",
      "loss: 0.5222991785854101 12999/100000\n",
      "loss: 0.48955520409345626 13999/100000\n",
      "loss: 0.4829732284173369 14999/100000\n",
      "loss: 0.5077047287449241 15999/100000\n",
      "loss: 0.48424089727550745 16999/100000\n",
      "loss: 0.510057169020176 17999/100000\n",
      "loss: 0.4860323239266872 18999/100000\n",
      "loss: 0.48803011438250543 19999/100000\n",
      "loss: 0.4964217052608728 20999/100000\n",
      "loss: 0.5180048879757524 21999/100000\n",
      "loss: 0.492876316100359 22999/100000\n",
      "loss: 0.48960768539458516 23999/100000\n",
      "loss: 0.5205423202849925 24999/100000\n",
      "loss: 0.5031951134987176 25999/100000\n",
      "loss: 0.4650399302914739 26999/100000\n",
      "loss: 0.4996766098178923 27999/100000\n",
      "loss: 0.4722460189536214 28999/100000\n",
      "loss: 0.4795646710488945 29999/100000\n",
      "loss: 0.4676758684515953 30999/100000\n",
      "loss: 0.5010610342770815 31999/100000\n",
      "loss: 0.466203459456563 32999/100000\n",
      "loss: 0.4448033898770809 33999/100000\n",
      "loss: 0.4532338551282883 34999/100000\n",
      "loss: 0.5186305381134152 35999/100000\n",
      "loss: 0.46992516522109506 36999/100000\n",
      "loss: 0.4707903383672237 37999/100000\n",
      "loss: 0.5024495853483677 38999/100000\n",
      "loss: 0.4545462886840105 39999/100000\n",
      "loss: 0.49568348345160484 40999/100000\n",
      "loss: 0.4711251246929169 41999/100000\n",
      "loss: 0.4657751324176788 42999/100000\n",
      "loss: 0.4432696341276169 43999/100000\n",
      "loss: 0.4840377189964056 44999/100000\n",
      "loss: 0.45899055844545367 45999/100000\n",
      "loss: 0.454247441843152 46999/100000\n",
      "loss: 0.4618243540301919 47999/100000\n",
      "loss: 0.4432572041749954 48999/100000\n",
      "loss: 0.47089176189899445 49999/100000\n",
      "loss: 0.45834778524935244 50999/100000\n",
      "loss: 0.4664361414462328 51999/100000\n",
      "loss: 0.4818606619387865 52999/100000\n",
      "loss: 0.4916688328832388 53999/100000\n",
      "loss: 0.48335097287595274 54999/100000\n",
      "loss: 0.4806324951648712 55999/100000\n",
      "loss: 0.4854416204839945 56999/100000\n",
      "loss: 0.46942660850286483 57999/100000\n",
      "loss: 0.47316833036392925 58999/100000\n",
      "loss: 0.44348526348173617 59999/100000\n",
      "loss: 0.4643788028359413 60999/100000\n",
      "loss: 0.4751531267911196 61999/100000\n",
      "loss: 0.4669606913179159 62999/100000\n",
      "loss: 0.4787710688263178 63999/100000\n",
      "loss: 0.4741634737700224 64999/100000\n",
      "loss: 0.4766010604202747 65999/100000\n",
      "loss: 0.4719306309074163 66999/100000\n",
      "loss: 0.45178506083786485 67999/100000\n",
      "loss: 0.44066990630328656 68999/100000\n",
      "loss: 0.4524205035418272 69999/100000\n",
      "loss: 0.43351885889470576 70999/100000\n",
      "loss: 0.4504079201370478 71999/100000\n",
      "loss: 0.4433511869460344 72999/100000\n",
      "loss: 0.46830380594730375 73999/100000\n",
      "loss: 0.4789333561956882 74999/100000\n",
      "loss: 0.4767967966683209 75999/100000\n",
      "loss: 0.46298766665160657 76999/100000\n",
      "loss: 0.4623295802772045 77999/100000\n",
      "loss: 0.48782584360986947 78999/100000\n",
      "loss: 0.44398389853537085 79999/100000\n",
      "loss: 0.45540581227838994 80999/100000\n",
      "loss: 0.44477679121494296 81999/100000\n",
      "loss: 0.43435542000830174 82999/100000\n",
      "loss: 0.4528514428883791 83999/100000\n",
      "loss: 0.43243450252711774 84999/100000\n",
      "loss: 0.48843142238259313 85999/100000\n",
      "loss: 0.43892575266957284 86999/100000\n",
      "loss: 0.4602379547059536 87999/100000\n",
      "loss: 0.4468670585155487 88999/100000\n",
      "loss: 0.47631870222091677 89999/100000\n",
      "loss: 0.45461415401101113 90999/100000\n",
      "loss: 0.43333304150402546 91999/100000\n",
      "loss: 0.43403769317269325 92999/100000\n",
      "loss: 0.4634628511220217 93999/100000\n",
      "loss: 0.45251462595164776 94999/100000\n",
      "loss: 0.4410838457942009 95999/100000\n",
      "loss: 0.45476892006397246 96999/100000\n",
      "loss: 0.4301375077962875 97999/100000\n",
      "loss: 0.40903328800201416 98999/100000\n",
      "loss: 0.4606015742570162 99999/100000\n",
      "Wall time: 7min 9s\n"
     ]
    },
    {
     "data": {
      "image/png": "[encoded data removed]",
      "text/plain": [
       "<Figure size 432x288 with 1 Axes>"
      ]
     },
     "metadata": {},
     "output_type": "display_data"
    }
   ],
   "source": [
    "%%time\n",
    "record1_10 = {}\n",
    "train_model(model1_10, record = record1_10)\n",
    "plt.plot(record1_10['loss_seq'])"
   ]
  },
  {
   "cell_type": "code",
   "execution_count": 40,
   "metadata": {},
   "outputs": [
    {
     "name": "stdout",
     "output_type": "stream",
     "text": [
      "train acc 0.7927722611102067\n",
      "tensor([[4782,   19],\n",
      "        [1254,   88]])\n",
      "test acc 0.7843137254901961\n",
      "tensor([[240,   2],\n",
      "        [ 64,   0]])\n",
      "<bound method Module.train of CNNV2(\n",
      "  (embed): Embedding(259922, 300)\n",
      "  (convs1): ModuleList(\n",
      "    (0): Conv2d(1, 10, kernel_size=(1, 300), stride=(1, 1))\n",
      "  )\n",
      "  (dropout): Dropout(p=0.5)\n",
      "  (conv2): Conv1d(10, 2, kernel_size=(1,), stride=(1,))\n",
      ")>\n",
      "save cache model model_cache/model2018-11-25 22-43-16.294853\n",
      "Wall time: 18.3 s\n"
     ]
    }
   ],
   "source": [
    "%%time\n",
    "eval_model(model1_10)\n",
    "save_model(model1_10)"
   ]
  },
  {
   "cell_type": "code",
   "execution_count": null,
   "metadata": {},
   "outputs": [],
   "source": []
  }
 ],
 "metadata": {
  "kernelspec": {
   "display_name": "Python 3",
   "language": "python",
   "name": "python3"
  },
  "language_info": {
   "codemirror_mode": {
    "name": "ipython",
    "version": 3
   },
   "file_extension": ".py",
   "mimetype": "text/x-python",
   "name": "python",
   "nbconvert_exporter": "python",
   "pygments_lexer": "ipython3",
   "version": "3.6.5"
  }
 },
 "nbformat": 4,
 "nbformat_minor": 2
}
